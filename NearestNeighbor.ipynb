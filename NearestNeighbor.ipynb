{
 "cells": [
  {
   "cell_type": "code",
   "outputs": [
    {
     "data": {
      "text/plain": "(1,\n [{'ID': 'Riven',\n   'Key': 92,\n   'Name': 'Riven',\n   'Difficulty': 8,\n   'HP': 630,\n   'Armor': 33,\n   'HPRegen': 8.5,\n   'AttackDamage': 64,\n   'AttackSpeed': 0.625},\n  {'ID': 'Ivern',\n   'Key': 427,\n   'Name': 'Ivern',\n   'Difficulty': 7,\n   'HP': 655,\n   'Armor': 27,\n   'HPRegen': 7.0,\n   'AttackDamage': 50,\n   'AttackSpeed': 0.644},\n  {'ID': 'Katarina',\n   'Key': 55,\n   'Name': 'Katarina',\n   'Difficulty': 8,\n   'HP': 672,\n   'Armor': 28,\n   'HPRegen': 7.5,\n   'AttackDamage': 58,\n   'AttackSpeed': 0.658},\n  {'ID': 'Varus',\n   'Key': 110,\n   'Name': 'Varus',\n   'Difficulty': 2,\n   'HP': 600,\n   'Armor': 27,\n   'HPRegen': 3.5,\n   'AttackDamage': 62,\n   'AttackSpeed': 0.658},\n  {'ID': 'Nautilus',\n   'Key': 111,\n   'Name': 'Nautilus',\n   'Difficulty': 6,\n   'HP': 646,\n   'Armor': 39,\n   'HPRegen': 8.5,\n   'AttackDamage': 61,\n   'AttackSpeed': 0.706}],\n [{'ID': 'Renekton',\n   'Key': 58,\n   'Name': 'Renekton',\n   'Difficulty': 3,\n   'HP': 660,\n   'Armor': 35,\n   'HPRegen': 8.0,\n   'AttackDamage': 69,\n   'AttackSpeed': 0.665},\n  {'ID': 'Viego',\n   'Key': 234,\n   'Name': 'Viego',\n   'Difficulty': 5,\n   'HP': 630,\n   'Armor': 34,\n   'HPRegen': 7.0,\n   'AttackDamage': 57,\n   'AttackSpeed': 0.658},\n  {'ID': 'Veigar',\n   'Key': 45,\n   'Name': 'Veigar',\n   'Difficulty': 7,\n   'HP': 550,\n   'Armor': 18,\n   'HPRegen': 6.5,\n   'AttackDamage': 52,\n   'AttackSpeed': 0.625},\n  {'Difficulty': 5.682926829268292,\n   'HP': 619.5426829268292,\n   'Armor': 29.835365853658537,\n   'HPRegen': 6.413109756097561,\n   'AttackDamage': 58.920731707317074,\n   'AttackSpeed': 0.6495426829268293,\n   'Name': 'Unknown',\n   'Key': -1},\n  {'ID': 'Braum',\n   'Key': 201,\n   'Name': 'Braum',\n   'Difficulty': 3,\n   'HP': 610,\n   'Armor': 47,\n   'HPRegen': 8.5,\n   'AttackDamage': 55,\n   'AttackSpeed': 0.644}])"
     },
     "execution_count": 2,
     "metadata": {},
     "output_type": "execute_result"
    }
   ],
   "source": [
    "import json\n",
    "import numpy as np\n",
    "\n",
    "# Paso 1: Crear un diccionario para mapear cada campeón con sus estadísticas\n",
    "\n",
    "# Cargar y visualizar el contenido de \"caracteristicas_campeones.json\"\n",
    "with open(\"caracteristicas_campeones.json\", \"r\") as file:\n",
    "    champion_features = json.load(file)\n",
    "\n",
    "# Cargar y visualizar el contenido de \"arraysPartidasResultado.json\"\n",
    "with open(\"arraysPartidasResultado.json\", \"r\") as file:\n",
    "    match_results = json.load(file)\n",
    "\n",
    "champion_dict = {champ['Key']: champ for champ in champion_features}\n",
    "# Definir un vector de características neutrales\n",
    "# Usaremos la media de cada atributo numérico para este vector\n",
    "keys = ['Difficulty', 'HP', 'Armor', 'HPRegen', 'AttackDamage', 'AttackSpeed']\n",
    "neutral_stats = {key: np.mean([champ[key] for champ in champion_features]) for key in keys}\n",
    "neutral_stats['Name'] = 'Unknown'\n",
    "neutral_stats['Key'] = -1  # Identificador especial para campeones desconocidos\n",
    "\n",
    "# Función de transformación actualizada para manejar campeones no encontrados\n",
    "def transform_match_updated(match, champion_dict, neutral_stats):\n",
    "    result = match[0]\n",
    "    # Utilizar estadísticas neutrales si el campeón no está en el diccionario\n",
    "    blue_team = [champion_dict.get(champ_id, neutral_stats) for champ_id in match[1:6]]\n",
    "    red_team = [champion_dict.get(champ_id, neutral_stats) for champ_id in match[6:11]]\n",
    "    return result, blue_team, red_team\n",
    "\n",
    "# Aplicar la transformación actualizada a la muestra para verificar\n",
    "sample_transformed_updated = [transform_match_updated(match, champion_dict, neutral_stats) for match in match_results_sample]\n",
    "sample_transformed_updated[0]  # Mostrar el resultado transformado de la primera partida\n"
   ],
   "metadata": {
    "collapsed": false,
    "ExecuteTime": {
     "end_time": "2024-04-18T14:16:13.278591Z",
     "start_time": "2024-04-18T14:16:13.102410Z"
    }
   },
   "id": "51fd4e3eaa45c0f3",
   "execution_count": 2
  },
  {
   "cell_type": "code",
   "outputs": [
    {
     "data": {
      "text/plain": "((13783, 70), (13783,))"
     },
     "execution_count": 3,
     "metadata": {},
     "output_type": "execute_result"
    }
   ],
   "source": [
    "\n",
    "    all_matches_transformed = [transform_match_updated(match, champion_dict, neutral_stats) for match in match_results]\n",
    "    \n",
    "# Convertir las características de cada campeón en cada equipo en un solo vector para cada partida\n",
    "    def flatten_match_data(match_data):\n",
    "        result, blue_team, red_team = match_data\n",
    "        # Aplanar las características de los campeones en un solo vector\n",
    "        blue_features = [value for champ in blue_team for key, value in champ.items() if isinstance(value, (int, float))]\n",
    "        red_features = [value for champ in red_team for key, value in champ.items() if isinstance(value, (int, float))]\n",
    "        features = blue_features + red_features\n",
    "        return result, features\n",
    "    \n",
    "    # Aplanar los datos para todos los partidos\n",
    "    flattened_data = [flatten_match_data(match) for match in all_matches_transformed]\n",
    "    \n",
    "    # Extraer las características y los resultados\n",
    "    X = np.array([features for _, features in flattened_data])\n",
    "    y = np.array([result for result, _ in flattened_data])\n",
    "    \n",
    "    # Normalizar las características\n",
    "    from sklearn.preprocessing import StandardScaler\n",
    "    scaler = StandardScaler()\n",
    "    X_scaled = scaler.fit_transform(X)\n",
    "    \n",
    "    # Muestra del resultado final procesado y normalizado\n",
    "    X_scaled.shape, y.shape\n"
   ],
   "metadata": {
    "collapsed": false,
    "ExecuteTime": {
     "end_time": "2024-04-18T14:18:07.956404Z",
     "start_time": "2024-04-18T14:18:07.088633Z"
    }
   },
   "id": "130f46eb22a7e166",
   "execution_count": 3
  },
  {
   "cell_type": "code",
   "outputs": [
    {
     "name": "stdout",
     "output_type": "stream",
     "text": [
      "Precisión del modelo: 0.6597751178817556\n",
      "Matriz de confusión:\n",
      " [[ 750  494]\n",
      " [ 444 1069]]\n",
      "Reporte de clasificación:\n",
      "               precision    recall  f1-score   support\n",
      "\n",
      "      Perder       0.63      0.60      0.62      1244\n",
      "       Ganar       0.68      0.71      0.70      1513\n",
      "\n",
      "    accuracy                           0.66      2757\n",
      "   macro avg       0.66      0.65      0.66      2757\n",
      "weighted avg       0.66      0.66      0.66      2757\n"
     ]
    }
   ],
   "source": [
    "from sklearn.model_selection import train_test_split\n",
    "from sklearn.neighbors import KNeighborsClassifier\n",
    "from sklearn.metrics import classification_report, confusion_matrix, accuracy_score\n",
    "\n",
    "# Dividir los datos en conjuntos de entrenamiento y prueba\n",
    "X_train, X_test, y_train, y_test = train_test_split(X_scaled, y, test_size=0.2, random_state=42)\n",
    "\n",
    "# Inicializar el clasificador KNN con un número arbitrario de vecinos, aquí elegimos k=5 para empezar\n",
    "knn = KNeighborsClassifier(n_neighbors=5)\n",
    "\n",
    "# Entrenar el modelo KNN\n",
    "knn.fit(X_train, y_train)\n",
    "\n",
    "# Predecir los resultados para el conjunto de prueba\n",
    "y_pred = knn.predict(X_test)\n",
    "\n",
    "# Calcular y mostrar métricas de rendimiento\n",
    "accuracy = accuracy_score(y_test, y_pred)\n",
    "conf_matrix = confusion_matrix(y_test, y_pred)\n",
    "report = classification_report(y_test, y_pred, target_names=[\"Perder\", \"Ganar\"])\n",
    "\n",
    "# Presentación de los resultados\n",
    "print(\"Precisión del modelo:\", accuracy)\n",
    "print(\"Matriz de confusión:\\n\", conf_matrix)\n",
    "print(\"Reporte de clasificación:\\n\", report)\n"
   ],
   "metadata": {
    "collapsed": false,
    "ExecuteTime": {
     "end_time": "2024-04-18T15:44:47.832884Z",
     "start_time": "2024-04-18T15:44:47.671556Z"
    }
   },
   "id": "28ab2883c30cff3d",
   "execution_count": 5
  },
  {
   "cell_type": "code",
   "outputs": [],
   "source": [],
   "metadata": {
    "collapsed": false
   },
   "id": "50cbe33980515583"
  }
 ],
 "metadata": {
  "kernelspec": {
   "display_name": "Python 3",
   "language": "python",
   "name": "python3"
  },
  "language_info": {
   "codemirror_mode": {
    "name": "ipython",
    "version": 2
   },
   "file_extension": ".py",
   "mimetype": "text/x-python",
   "name": "python",
   "nbconvert_exporter": "python",
   "pygments_lexer": "ipython2",
   "version": "2.7.6"
  }
 },
 "nbformat": 4,
 "nbformat_minor": 5
}
