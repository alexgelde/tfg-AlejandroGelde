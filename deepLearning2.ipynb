{
 "cells": [
  {
   "cell_type": "code",
   "execution_count": 2,
   "id": "initial_id",
   "metadata": {
    "collapsed": true,
    "ExecuteTime": {
     "end_time": "2024-04-19T17:28:42.965398Z",
     "start_time": "2024-04-19T17:28:42.918062Z"
    }
   },
   "outputs": [
    {
     "name": "stdout",
     "output_type": "stream",
     "text": [
      "Datos de Campeones:\n",
      "        ID  Key     Name  Difficulty   HP  Armor  HPRegen  AttackDamage  \\\n",
      "0   Aatrox  266   Aatrox           4  650     38     3.00            60   \n",
      "1     Ahri  103     Ahri           5  590     21     2.50            53   \n",
      "2    Akali   84    Akali           7  570     23     9.00            62   \n",
      "3   Akshan  166   Akshan           0  630     26     3.75            52   \n",
      "4  Alistar   12  Alistar           7  685     47     8.50            62   \n",
      "\n",
      "   AttackSpeed  \n",
      "0        0.651  \n",
      "1        0.668  \n",
      "2        0.625  \n",
      "3        0.638  \n",
      "4        0.625  \n",
      "\n",
      "Datos de Partidas:\n",
      "   Resultado  Campeon1  Campeon2  Campeon3  Campeon4  Campeon5  Campeon6  \\\n",
      "0          1        92       427        55       110       111        58   \n",
      "1          0       101        61        78       238        62       161   \n",
      "2          1        80        79       910        81        22       266   \n",
      "3          0        58        91       103       145       235        85   \n",
      "4          0        58        74       131       157       111        84   \n",
      "\n",
      "   Campeon7  Campeon8  Campeon9  Campeon10  \n",
      "0       234        45       901        201  \n",
      "1        19        51       235        517  \n",
      "2        60        42       119        497  \n",
      "3       234        61       901        497  \n",
      "4       143        67        81        164  \n"
     ]
    }
   ],
   "source": [
    "import pandas as pd\n",
    "import json\n",
    "\n",
    "# Cargar datos de campeones\n",
    "with open('caracteristicas_campeones.json', 'r') as file:\n",
    "    champions_data = json.load(file)\n",
    "    champions_df = pd.DataFrame(champions_data)\n",
    "\n",
    "# Cargar datos de partidas y resultados\n",
    "with open('arraysPartidasResultado.json', 'r') as file:\n",
    "    matches_data = json.load(file)\n",
    "    matches_df = pd.DataFrame(matches_data, columns=['Resultado', 'Campeon1', 'Campeon2', 'Campeon3', 'Campeon4', 'Campeon5',\n",
    "                                                     'Campeon6', 'Campeon7', 'Campeon8', 'Campeon9', 'Campeon10'])\n",
    "\n",
    "\n"
   ]
  },
  {
   "cell_type": "code",
   "outputs": [
    {
     "data": {
      "text/plain": "((11026, 5), (2757, 5))"
     },
     "execution_count": 4,
     "metadata": {},
     "output_type": "execute_result"
    }
   ],
   "source": [
    "import numpy as np\n",
    "from sklearn.model_selection import train_test_split\n",
    "from sklearn.preprocessing import OneHotEncoder\n",
    "\n",
    "# Convertir las claves de campeones a strings para evitar problemas de tipo\n",
    "champions_df['Key'] = champions_df['Key'].astype(str)\n",
    "matches_df.iloc[:, 1:] = matches_df.iloc[:, 1:].astype(str)\n",
    "\n",
    "# Crear un diccionario para mapear las claves de campeón a sus características\n",
    "champion_features_dict = champions_df.set_index('Key')[['HP', 'Armor', 'HPRegen', 'AttackDamage', 'AttackSpeed']].to_dict('index')\n",
    "\n",
    "# Función para sumar las características de los campeones por equipo\n",
    "def sum_champion_features(team):\n",
    "    features = np.zeros(5)  # Hay 5 características que estamos sumando\n",
    "    for champ in team:\n",
    "        if champ in champion_features_dict:\n",
    "            features += np.array(list(champion_features_dict[champ].values()))\n",
    "        else:\n",
    "            features += np.zeros(5)  # Si no hay datos para un campeón, agregar un array de ceros\n",
    "    return features\n",
    "\n",
    "# Aplicar la función para cada equipo y calcular la diferencia de características\n",
    "matches_df['Team1_Features'] = matches_df.iloc[:, 1:6].apply(lambda row: sum_champion_features(row), axis=1)\n",
    "matches_df['Team2_Features'] = matches_df.iloc[:, 6:11].apply(lambda row: sum_champion_features(row), axis=1)\n",
    "matches_df['Features_Diff'] = matches_df['Team1_Features'] - matches_df['Team2_Features']\n",
    "\n",
    "# Preparar datos de entrada y salida\n",
    "X = np.vstack(matches_df['Features_Diff'].values)\n",
    "y = matches_df['Resultado'].values\n",
    "\n",
    "# Dividir datos en entrenamiento y prueba\n",
    "X_train, X_test, y_train, y_test = train_test_split(X, y, test_size=0.2, random_state=42)\n",
    "\n",
    "# Comprobemos las dimensiones de los conjuntos de datos de entrenamiento y prueba\n",
    "X_train.shape, X_test.shape\n",
    "\n"
   ],
   "metadata": {
    "collapsed": false,
    "ExecuteTime": {
     "end_time": "2024-04-19T17:31:39.158103Z",
     "start_time": "2024-04-19T17:30:46.720532Z"
    }
   },
   "id": "85353c19f1354392",
   "execution_count": 4
  },
  {
   "cell_type": "code",
   "outputs": [
    {
     "name": "stdout",
     "output_type": "stream",
     "text": [
      "Epoch 1/50\n"
     ]
    },
    {
     "name": "stderr",
     "output_type": "stream",
     "text": [
      "C:\\Users\\USUARIO\\anaconda3\\Lib\\site-packages\\keras\\src\\layers\\core\\dense.py:86: UserWarning: Do not pass an `input_shape`/`input_dim` argument to a layer. When using Sequential models, prefer using an `Input(shape)` object as the first layer in the model instead.\n",
      "  super().__init__(activity_regularizer=activity_regularizer, **kwargs)\n"
     ]
    },
    {
     "name": "stdout",
     "output_type": "stream",
     "text": [
      "\u001B[1m276/276\u001B[0m \u001B[32m━━━━━━━━━━━━━━━━━━━━\u001B[0m\u001B[37m\u001B[0m \u001B[1m1s\u001B[0m 1ms/step - accuracy: 0.5367 - loss: 0.6924 - val_accuracy: 0.5607 - val_loss: 0.6892\n",
      "Epoch 2/50\n",
      "\u001B[1m276/276\u001B[0m \u001B[32m━━━━━━━━━━━━━━━━━━━━\u001B[0m\u001B[37m\u001B[0m \u001B[1m0s\u001B[0m 754us/step - accuracy: 0.5363 - loss: 0.6909 - val_accuracy: 0.5607 - val_loss: 0.6877\n",
      "Epoch 3/50\n",
      "\u001B[1m276/276\u001B[0m \u001B[32m━━━━━━━━━━━━━━━━━━━━\u001B[0m\u001B[37m\u001B[0m \u001B[1m0s\u001B[0m 747us/step - accuracy: 0.5431 - loss: 0.6898 - val_accuracy: 0.5607 - val_loss: 0.6871\n",
      "Epoch 4/50\n",
      "\u001B[1m276/276\u001B[0m \u001B[32m━━━━━━━━━━━━━━━━━━━━\u001B[0m\u001B[37m\u001B[0m \u001B[1m0s\u001B[0m 776us/step - accuracy: 0.5272 - loss: 0.6918 - val_accuracy: 0.5607 - val_loss: 0.6867\n",
      "Epoch 5/50\n",
      "\u001B[1m276/276\u001B[0m \u001B[32m━━━━━━━━━━━━━━━━━━━━\u001B[0m\u001B[37m\u001B[0m \u001B[1m0s\u001B[0m 776us/step - accuracy: 0.5355 - loss: 0.6907 - val_accuracy: 0.5607 - val_loss: 0.6867\n",
      "Epoch 6/50\n",
      "\u001B[1m276/276\u001B[0m \u001B[32m━━━━━━━━━━━━━━━━━━━━\u001B[0m\u001B[37m\u001B[0m \u001B[1m0s\u001B[0m 743us/step - accuracy: 0.5485 - loss: 0.6886 - val_accuracy: 0.5607 - val_loss: 0.6867\n",
      "Epoch 7/50\n",
      "\u001B[1m276/276\u001B[0m \u001B[32m━━━━━━━━━━━━━━━━━━━━\u001B[0m\u001B[37m\u001B[0m \u001B[1m0s\u001B[0m 740us/step - accuracy: 0.5352 - loss: 0.6907 - val_accuracy: 0.5607 - val_loss: 0.6867\n",
      "Epoch 8/50\n",
      "\u001B[1m276/276\u001B[0m \u001B[32m━━━━━━━━━━━━━━━━━━━━\u001B[0m\u001B[37m\u001B[0m \u001B[1m0s\u001B[0m 743us/step - accuracy: 0.5351 - loss: 0.6907 - val_accuracy: 0.5607 - val_loss: 0.6867\n",
      "Epoch 9/50\n",
      "\u001B[1m276/276\u001B[0m \u001B[32m━━━━━━━━━━━━━━━━━━━━\u001B[0m\u001B[37m\u001B[0m \u001B[1m0s\u001B[0m 765us/step - accuracy: 0.5380 - loss: 0.6903 - val_accuracy: 0.5607 - val_loss: 0.6866\n",
      "Epoch 10/50\n",
      "\u001B[1m276/276\u001B[0m \u001B[32m━━━━━━━━━━━━━━━━━━━━\u001B[0m\u001B[37m\u001B[0m \u001B[1m0s\u001B[0m 754us/step - accuracy: 0.5425 - loss: 0.6896 - val_accuracy: 0.5607 - val_loss: 0.6867\n",
      "Epoch 11/50\n",
      "\u001B[1m276/276\u001B[0m \u001B[32m━━━━━━━━━━━━━━━━━━━━\u001B[0m\u001B[37m\u001B[0m \u001B[1m0s\u001B[0m 714us/step - accuracy: 0.5490 - loss: 0.6885 - val_accuracy: 0.5607 - val_loss: 0.6867\n",
      "Epoch 12/50\n",
      "\u001B[1m276/276\u001B[0m \u001B[32m━━━━━━━━━━━━━━━━━━━━\u001B[0m\u001B[37m\u001B[0m \u001B[1m0s\u001B[0m 729us/step - accuracy: 0.5387 - loss: 0.6902 - val_accuracy: 0.5607 - val_loss: 0.6867\n",
      "Epoch 13/50\n",
      "\u001B[1m276/276\u001B[0m \u001B[32m━━━━━━━━━━━━━━━━━━━━\u001B[0m\u001B[37m\u001B[0m \u001B[1m0s\u001B[0m 736us/step - accuracy: 0.5475 - loss: 0.6888 - val_accuracy: 0.5607 - val_loss: 0.6867\n",
      "Epoch 14/50\n",
      "\u001B[1m276/276\u001B[0m \u001B[32m━━━━━━━━━━━━━━━━━━━━\u001B[0m\u001B[37m\u001B[0m \u001B[1m0s\u001B[0m 754us/step - accuracy: 0.5322 - loss: 0.6912 - val_accuracy: 0.5607 - val_loss: 0.6867\n",
      "Epoch 15/50\n",
      "\u001B[1m276/276\u001B[0m \u001B[32m━━━━━━━━━━━━━━━━━━━━\u001B[0m\u001B[37m\u001B[0m \u001B[1m0s\u001B[0m 743us/step - accuracy: 0.5407 - loss: 0.6899 - val_accuracy: 0.5607 - val_loss: 0.6866\n",
      "Epoch 16/50\n",
      "\u001B[1m276/276\u001B[0m \u001B[32m━━━━━━━━━━━━━━━━━━━━\u001B[0m\u001B[37m\u001B[0m \u001B[1m0s\u001B[0m 747us/step - accuracy: 0.5368 - loss: 0.6905 - val_accuracy: 0.5607 - val_loss: 0.6867\n",
      "Epoch 17/50\n",
      "\u001B[1m276/276\u001B[0m \u001B[32m━━━━━━━━━━━━━━━━━━━━\u001B[0m\u001B[37m\u001B[0m \u001B[1m0s\u001B[0m 714us/step - accuracy: 0.5280 - loss: 0.6919 - val_accuracy: 0.5607 - val_loss: 0.6866\n",
      "Epoch 18/50\n",
      "\u001B[1m276/276\u001B[0m \u001B[32m━━━━━━━━━━━━━━━━━━━━\u001B[0m\u001B[37m\u001B[0m \u001B[1m0s\u001B[0m 747us/step - accuracy: 0.5415 - loss: 0.6897 - val_accuracy: 0.5607 - val_loss: 0.6866\n",
      "Epoch 19/50\n",
      "\u001B[1m276/276\u001B[0m \u001B[32m━━━━━━━━━━━━━━━━━━━━\u001B[0m\u001B[37m\u001B[0m \u001B[1m0s\u001B[0m 747us/step - accuracy: 0.5341 - loss: 0.6909 - val_accuracy: 0.5607 - val_loss: 0.6866\n",
      "Epoch 20/50\n",
      "\u001B[1m276/276\u001B[0m \u001B[32m━━━━━━━━━━━━━━━━━━━━\u001B[0m\u001B[37m\u001B[0m \u001B[1m0s\u001B[0m 733us/step - accuracy: 0.5376 - loss: 0.6904 - val_accuracy: 0.5607 - val_loss: 0.6866\n",
      "Epoch 21/50\n",
      "\u001B[1m276/276\u001B[0m \u001B[32m━━━━━━━━━━━━━━━━━━━━\u001B[0m\u001B[37m\u001B[0m \u001B[1m0s\u001B[0m 740us/step - accuracy: 0.5288 - loss: 0.6917 - val_accuracy: 0.5607 - val_loss: 0.6866\n",
      "Epoch 22/50\n",
      "\u001B[1m276/276\u001B[0m \u001B[32m━━━━━━━━━━━━━━━━━━━━\u001B[0m\u001B[37m\u001B[0m \u001B[1m0s\u001B[0m 747us/step - accuracy: 0.5319 - loss: 0.6913 - val_accuracy: 0.5607 - val_loss: 0.6865\n",
      "Epoch 23/50\n",
      "\u001B[1m276/276\u001B[0m \u001B[32m━━━━━━━━━━━━━━━━━━━━\u001B[0m\u001B[37m\u001B[0m \u001B[1m0s\u001B[0m 794us/step - accuracy: 0.5422 - loss: 0.6896 - val_accuracy: 0.5607 - val_loss: 0.6866\n",
      "Epoch 24/50\n",
      "\u001B[1m276/276\u001B[0m \u001B[32m━━━━━━━━━━━━━━━━━━━━\u001B[0m\u001B[37m\u001B[0m \u001B[1m0s\u001B[0m 718us/step - accuracy: 0.5394 - loss: 0.6901 - val_accuracy: 0.5607 - val_loss: 0.6867\n",
      "Epoch 25/50\n",
      "\u001B[1m276/276\u001B[0m \u001B[32m━━━━━━━━━━━━━━━━━━━━\u001B[0m\u001B[37m\u001B[0m \u001B[1m0s\u001B[0m 751us/step - accuracy: 0.5366 - loss: 0.6905 - val_accuracy: 0.5607 - val_loss: 0.6866\n",
      "Epoch 26/50\n",
      "\u001B[1m276/276\u001B[0m \u001B[32m━━━━━━━━━━━━━━━━━━━━\u001B[0m\u001B[37m\u001B[0m \u001B[1m0s\u001B[0m 743us/step - accuracy: 0.5404 - loss: 0.6899 - val_accuracy: 0.5607 - val_loss: 0.6866\n",
      "Epoch 27/50\n",
      "\u001B[1m276/276\u001B[0m \u001B[32m━━━━━━━━━━━━━━━━━━━━\u001B[0m\u001B[37m\u001B[0m \u001B[1m0s\u001B[0m 769us/step - accuracy: 0.5423 - loss: 0.6896 - val_accuracy: 0.5607 - val_loss: 0.6867\n",
      "Epoch 28/50\n",
      "\u001B[1m276/276\u001B[0m \u001B[32m━━━━━━━━━━━━━━━━━━━━\u001B[0m\u001B[37m\u001B[0m \u001B[1m0s\u001B[0m 736us/step - accuracy: 0.5379 - loss: 0.6903 - val_accuracy: 0.5607 - val_loss: 0.6867\n",
      "Epoch 29/50\n",
      "\u001B[1m276/276\u001B[0m \u001B[32m━━━━━━━━━━━━━━━━━━━━\u001B[0m\u001B[37m\u001B[0m \u001B[1m0s\u001B[0m 711us/step - accuracy: 0.5446 - loss: 0.6892 - val_accuracy: 0.5607 - val_loss: 0.6868\n",
      "Epoch 30/50\n",
      "\u001B[1m276/276\u001B[0m \u001B[32m━━━━━━━━━━━━━━━━━━━━\u001B[0m\u001B[37m\u001B[0m \u001B[1m0s\u001B[0m 714us/step - accuracy: 0.5330 - loss: 0.6910 - val_accuracy: 0.5607 - val_loss: 0.6867\n",
      "Epoch 31/50\n",
      "\u001B[1m276/276\u001B[0m \u001B[32m━━━━━━━━━━━━━━━━━━━━\u001B[0m\u001B[37m\u001B[0m \u001B[1m0s\u001B[0m 722us/step - accuracy: 0.5419 - loss: 0.6897 - val_accuracy: 0.5607 - val_loss: 0.6867\n",
      "Epoch 32/50\n",
      "\u001B[1m276/276\u001B[0m \u001B[32m━━━━━━━━━━━━━━━━━━━━\u001B[0m\u001B[37m\u001B[0m \u001B[1m0s\u001B[0m 718us/step - accuracy: 0.5419 - loss: 0.6897 - val_accuracy: 0.5607 - val_loss: 0.6867\n",
      "Epoch 33/50\n",
      "\u001B[1m276/276\u001B[0m \u001B[32m━━━━━━━━━━━━━━━━━━━━\u001B[0m\u001B[37m\u001B[0m \u001B[1m0s\u001B[0m 714us/step - accuracy: 0.5481 - loss: 0.6887 - val_accuracy: 0.5607 - val_loss: 0.6867\n",
      "Epoch 34/50\n",
      "\u001B[1m276/276\u001B[0m \u001B[32m━━━━━━━━━━━━━━━━━━━━\u001B[0m\u001B[37m\u001B[0m \u001B[1m0s\u001B[0m 718us/step - accuracy: 0.5363 - loss: 0.6906 - val_accuracy: 0.5607 - val_loss: 0.6867\n",
      "Epoch 35/50\n",
      "\u001B[1m276/276\u001B[0m \u001B[32m━━━━━━━━━━━━━━━━━━━━\u001B[0m\u001B[37m\u001B[0m \u001B[1m0s\u001B[0m 711us/step - accuracy: 0.5481 - loss: 0.6887 - val_accuracy: 0.5607 - val_loss: 0.6867\n",
      "Epoch 36/50\n",
      "\u001B[1m276/276\u001B[0m \u001B[32m━━━━━━━━━━━━━━━━━━━━\u001B[0m\u001B[37m\u001B[0m \u001B[1m0s\u001B[0m 711us/step - accuracy: 0.5419 - loss: 0.6897 - val_accuracy: 0.5607 - val_loss: 0.6867\n",
      "Epoch 37/50\n",
      "\u001B[1m276/276\u001B[0m \u001B[32m━━━━━━━━━━━━━━━━━━━━\u001B[0m\u001B[37m\u001B[0m \u001B[1m0s\u001B[0m 736us/step - accuracy: 0.5443 - loss: 0.6893 - val_accuracy: 0.5607 - val_loss: 0.6868\n",
      "Epoch 38/50\n",
      "\u001B[1m276/276\u001B[0m \u001B[32m━━━━━━━━━━━━━━━━━━━━\u001B[0m\u001B[37m\u001B[0m \u001B[1m0s\u001B[0m 722us/step - accuracy: 0.5481 - loss: 0.6887 - val_accuracy: 0.5607 - val_loss: 0.6867\n",
      "Epoch 39/50\n",
      "\u001B[1m276/276\u001B[0m \u001B[32m━━━━━━━━━━━━━━━━━━━━\u001B[0m\u001B[37m\u001B[0m \u001B[1m0s\u001B[0m 725us/step - accuracy: 0.5484 - loss: 0.6887 - val_accuracy: 0.5607 - val_loss: 0.6868\n",
      "Epoch 40/50\n",
      "\u001B[1m276/276\u001B[0m \u001B[32m━━━━━━━━━━━━━━━━━━━━\u001B[0m\u001B[37m\u001B[0m \u001B[1m0s\u001B[0m 729us/step - accuracy: 0.5414 - loss: 0.6898 - val_accuracy: 0.5607 - val_loss: 0.6868\n",
      "Epoch 41/50\n",
      "\u001B[1m276/276\u001B[0m \u001B[32m━━━━━━━━━━━━━━━━━━━━\u001B[0m\u001B[37m\u001B[0m \u001B[1m0s\u001B[0m 722us/step - accuracy: 0.5352 - loss: 0.6907 - val_accuracy: 0.5607 - val_loss: 0.6867\n",
      "Epoch 42/50\n",
      "\u001B[1m276/276\u001B[0m \u001B[32m━━━━━━━━━━━━━━━━━━━━\u001B[0m\u001B[37m\u001B[0m \u001B[1m0s\u001B[0m 714us/step - accuracy: 0.5324 - loss: 0.6911 - val_accuracy: 0.5607 - val_loss: 0.6866\n",
      "Epoch 43/50\n",
      "\u001B[1m276/276\u001B[0m \u001B[32m━━━━━━━━━━━━━━━━━━━━\u001B[0m\u001B[37m\u001B[0m \u001B[1m0s\u001B[0m 718us/step - accuracy: 0.5289 - loss: 0.6917 - val_accuracy: 0.5607 - val_loss: 0.6866\n",
      "Epoch 44/50\n",
      "\u001B[1m276/276\u001B[0m \u001B[32m━━━━━━━━━━━━━━━━━━━━\u001B[0m\u001B[37m\u001B[0m \u001B[1m0s\u001B[0m 718us/step - accuracy: 0.5412 - loss: 0.6898 - val_accuracy: 0.5607 - val_loss: 0.6866\n",
      "Epoch 45/50\n",
      "\u001B[1m276/276\u001B[0m \u001B[32m━━━━━━━━━━━━━━━━━━━━\u001B[0m\u001B[37m\u001B[0m \u001B[1m0s\u001B[0m 715us/step - accuracy: 0.5300 - loss: 0.6915 - val_accuracy: 0.5607 - val_loss: 0.6866\n",
      "Epoch 46/50\n",
      "\u001B[1m276/276\u001B[0m \u001B[32m━━━━━━━━━━━━━━━━━━━━\u001B[0m\u001B[37m\u001B[0m \u001B[1m0s\u001B[0m 711us/step - accuracy: 0.5347 - loss: 0.6908 - val_accuracy: 0.5607 - val_loss: 0.6866\n",
      "Epoch 47/50\n",
      "\u001B[1m276/276\u001B[0m \u001B[32m━━━━━━━━━━━━━━━━━━━━\u001B[0m\u001B[37m\u001B[0m \u001B[1m0s\u001B[0m 700us/step - accuracy: 0.5307 - loss: 0.6914 - val_accuracy: 0.5607 - val_loss: 0.6866\n",
      "Epoch 48/50\n",
      "\u001B[1m276/276\u001B[0m \u001B[32m━━━━━━━━━━━━━━━━━━━━\u001B[0m\u001B[37m\u001B[0m \u001B[1m0s\u001B[0m 707us/step - accuracy: 0.5478 - loss: 0.6887 - val_accuracy: 0.5607 - val_loss: 0.6867\n",
      "Epoch 49/50\n",
      "\u001B[1m276/276\u001B[0m \u001B[32m━━━━━━━━━━━━━━━━━━━━\u001B[0m\u001B[37m\u001B[0m \u001B[1m0s\u001B[0m 714us/step - accuracy: 0.5440 - loss: 0.6894 - val_accuracy: 0.5607 - val_loss: 0.6866\n",
      "Epoch 50/50\n",
      "\u001B[1m276/276\u001B[0m \u001B[32m━━━━━━━━━━━━━━━━━━━━\u001B[0m\u001B[37m\u001B[0m \u001B[1m0s\u001B[0m 714us/step - accuracy: 0.5280 - loss: 0.6919 - val_accuracy: 0.5607 - val_loss: 0.6866\n",
      "\u001B[1m87/87\u001B[0m \u001B[32m━━━━━━━━━━━━━━━━━━━━\u001B[0m\u001B[37m\u001B[0m \u001B[1m0s\u001B[0m 487us/step - accuracy: 0.5267 - loss: 0.6921\n"
     ]
    },
    {
     "data": {
      "text/plain": "0.5487849116325378"
     },
     "execution_count": 6,
     "metadata": {},
     "output_type": "execute_result"
    }
   ],
   "source": [
    "import tensorflow as tf\n",
    "from tensorflow.keras.models import Sequential\n",
    "from tensorflow.keras.layers import Dense\n",
    "\n",
    "# Crear el modelo de MLP\n",
    "model = Sequential([\n",
    "    Dense(64, activation='relu', input_shape=(5,)),  # 5 características de entrada\n",
    "    Dense(64, activation='relu'),\n",
    "    Dense(1, activation='sigmoid')  # Capa de salida para clasificación binaria\n",
    "])\n",
    "\n",
    "# Compilar el modelo\n",
    "model.compile(optimizer='adam', loss='binary_crossentropy', metrics=['accuracy'])\n",
    "\n",
    "# Entrenar el modelo\n",
    "history = model.fit(X_train, y_train, epochs=50, batch_size=32, validation_split=0.2)\n",
    "\n",
    "# Evaluar el modelo en el conjunto de prueba\n",
    "test_loss, test_accuracy = model.evaluate(X_test, y_test)\n",
    "test_accuracy\n",
    "\n"
   ],
   "metadata": {
    "collapsed": false,
    "ExecuteTime": {
     "end_time": "2024-04-19T17:32:55.394316Z",
     "start_time": "2024-04-19T17:32:43.079999Z"
    }
   },
   "id": "cb5930bd961f7e5",
   "execution_count": 6
  },
  {
   "cell_type": "code",
   "outputs": [
    {
     "name": "stdout",
     "output_type": "stream",
     "text": [
      "\u001B[1m87/87\u001B[0m \u001B[32m━━━━━━━━━━━━━━━━━━━━\u001B[0m\u001B[37m\u001B[0m \u001B[1m0s\u001B[0m 487us/step\n",
      "              precision    recall  f1-score   support\n",
      "\n",
      "           0       0.00      0.00      0.00      1244\n",
      "           1       0.55      1.00      0.71      1513\n",
      "\n",
      "    accuracy                           0.55      2757\n",
      "   macro avg       0.27      0.50      0.35      2757\n",
      "weighted avg       0.30      0.55      0.39      2757\n"
     ]
    },
    {
     "name": "stderr",
     "output_type": "stream",
     "text": [
      "C:\\Users\\USUARIO\\anaconda3\\Lib\\site-packages\\sklearn\\metrics\\_classification.py:1344: UndefinedMetricWarning: Precision and F-score are ill-defined and being set to 0.0 in labels with no predicted samples. Use `zero_division` parameter to control this behavior.\n",
      "  _warn_prf(average, modifier, msg_start, len(result))\n",
      "C:\\Users\\USUARIO\\anaconda3\\Lib\\site-packages\\sklearn\\metrics\\_classification.py:1344: UndefinedMetricWarning: Precision and F-score are ill-defined and being set to 0.0 in labels with no predicted samples. Use `zero_division` parameter to control this behavior.\n",
      "  _warn_prf(average, modifier, msg_start, len(result))\n",
      "C:\\Users\\USUARIO\\anaconda3\\Lib\\site-packages\\sklearn\\metrics\\_classification.py:1344: UndefinedMetricWarning: Precision and F-score are ill-defined and being set to 0.0 in labels with no predicted samples. Use `zero_division` parameter to control this behavior.\n",
      "  _warn_prf(average, modifier, msg_start, len(result))\n"
     ]
    },
    {
     "data": {
      "text/plain": "<Figure size 600x400 with 2 Axes>",
      "image/png": "[encoded data removed]"
     },
     "metadata": {},
     "output_type": "display_data"
    },
    {
     "data": {
      "text/plain": "<Figure size 600x400 with 1 Axes>",
      "image/png": "[encoded data removed]"
     },
     "metadata": {},
     "output_type": "display_data"
    }
   ],
   "source": [
    "from sklearn.metrics import classification_report, confusion_matrix, roc_curve, auc\n",
    "import matplotlib.pyplot as plt\n",
    "import seaborn as sns\n",
    "\n",
    "# Predicciones del modelo\n",
    "y_pred = model.predict(X_test)\n",
    "y_pred_rounded = (y_pred > 0.5).astype(int)\n",
    "\n",
    "# Generar reporte de clasificación\n",
    "print(classification_report(y_test, y_pred_rounded))\n",
    "\n",
    "# Matriz de confusión\n",
    "conf_matrix = confusion_matrix(y_test, y_pred_rounded)\n",
    "plt.figure(figsize=(6, 4))  # Tamaño más pequeño\n",
    "sns.heatmap(conf_matrix, annot=True, fmt='g', cmap='Blues')\n",
    "plt.xlabel('Predicted label')\n",
    "plt.ylabel('True label')\n",
    "plt.title('Confusion Matrix')\n",
    "plt.show()\n",
    "\n",
    "# Curva ROC\n",
    "fpr, tpr, thresholds = roc_curve(y_test, y_pred)\n",
    "roc_auc = auc(fpr, tpr)\n",
    "plt.figure(figsize=(6, 4))  # Tamaño más pequeño\n",
    "plt.plot(fpr, tpr, color='darkorange', lw=2, label='ROC curve (area = %0.2f)' % roc_auc)\n",
    "plt.plot([0, 1], [0, 1], color='navy', lw=2, linestyle='--')\n",
    "plt.xlabel('False Positive Rate')\n",
    "plt.ylabel('True Positive Rate')\n",
    "plt.title('Receiver Operating Characteristic')\n",
    "plt.legend(loc=\"lower right\")\n",
    "plt.show()\n",
    "\n"
   ],
   "metadata": {
    "collapsed": false,
    "ExecuteTime": {
     "end_time": "2024-04-19T17:34:50.196322Z",
     "start_time": "2024-04-19T17:34:49.870745Z"
    }
   },
   "id": "340b76bb209221ce",
   "execution_count": 8
  },
  {
   "cell_type": "code",
   "outputs": [],
   "source": [],
   "metadata": {
    "collapsed": false
   },
   "id": "375e995b3bbc425f"
  }
 ],
 "metadata": {
  "kernelspec": {
   "display_name": "Python 3",
   "language": "python",
   "name": "python3"
  },
  "language_info": {
   "codemirror_mode": {
    "name": "ipython",
    "version": 2
   },
   "file_extension": ".py",
   "mimetype": "text/x-python",
   "name": "python",
   "nbconvert_exporter": "python",
   "pygments_lexer": "ipython2",
   "version": "2.7.6"
  }
 },
 "nbformat": 4,
 "nbformat_minor": 5
}
