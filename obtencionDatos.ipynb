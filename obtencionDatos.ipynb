{
 "cells": [
  {
   "cell_type": "code",
   "execution_count": 14,
   "id": "initial_id",
   "metadata": {
    "collapsed": true,
    "ExecuteTime": {
     "end_time": "2024-03-07T12:00:28.354321Z",
     "start_time": "2024-03-07T12:00:26.522219Z"
    }
   },
   "outputs": [
    {
     "name": "stdout",
     "output_type": "stream",
     "text": [
      "Requirement already satisfied: riotwatcher in c:\\users\\usuario\\anaconda3\\envs\\tfg-final\\lib\\site-packages (3.2.5)\n",
      "Requirement already satisfied: requests in c:\\users\\usuario\\anaconda3\\envs\\tfg-final\\lib\\site-packages (from riotwatcher) (2.31.0)\n",
      "Requirement already satisfied: charset-normalizer<4,>=2 in c:\\users\\usuario\\anaconda3\\envs\\tfg-final\\lib\\site-packages (from requests->riotwatcher) (2.0.4)\n",
      "Requirement already satisfied: idna<4,>=2.5 in c:\\users\\usuario\\anaconda3\\envs\\tfg-final\\lib\\site-packages (from requests->riotwatcher) (3.4)\n",
      "Requirement already satisfied: urllib3<3,>=1.21.1 in c:\\users\\usuario\\anaconda3\\envs\\tfg-final\\lib\\site-packages (from requests->riotwatcher) (2.1.0)\n",
      "Requirement already satisfied: certifi>=2017.4.17 in c:\\users\\usuario\\anaconda3\\envs\\tfg-final\\lib\\site-packages (from requests->riotwatcher) (2024.2.2)\n",
      "Datos guardados exitosamente en challenger_league_data.xlsx\n",
      "['GR0OT' 'danka no stylist' 'EijiDate13' '' 'Odoamne' 'ViperGumaLunatic'\n",
      " 'Byeongshin' 'WWWWWVWVWWWW' '' 'joebidenhotdog85' 'SPKTR' 'FaithXD'\n",
      " 'hmyok' 'graa lyft' 'Hans SamB' 'RES Elfa' '' 'Joinze' 'SUPdoss'\n",
      " 'Roulette' 'beemomand' '123kok123' 'BDSnuc' 'm1cheIangel0' 'unforgiven 1'\n",
      " 'G2 Jorah Mormont' 'mersadge' 'f3ed l0rd' 'Toru Oikαwα' 'Escape Goat'\n",
      " 'Spøtlight' 'All mute SBSK' 'pocovirtuoso' 'T1 Mxe' 'RKRKZN' 'chenzelot'\n",
      " 'AHaHaCiK' 'TTV NattyNattLoL' 'NUΜB' 'VΣTHΣΘ' 'q t u hgd v' 'ADexakick'\n",
      " 'fill fan' 'IvernGod' 'Kaori3' '' 'Incandescence33' 'LXKAOwl'\n",
      " 'Season 3 Chall' 'TTV Potent213' 'Husum' 'S P L A S H 777' 'SLY Wakz'\n",
      " 'TheRoyalKanin' 'Purple Place' 'Tebox' 'pIxAdrian' 'Notiko LFT' 'SeRiN1'\n",
      " 'Spear Shot' 'Ekko the Neeko' 'Wesley Warren Jr' 'Zaghean259' 'gumaguccy'\n",
      " 'COJETYPICO' 'FredSpaghet' 'Elec Trizzy T' 'Chowlee' 'Sertuss'\n",
      " '2023 SOLDIER' 'FamiIy FriendIy' 'Nillee' 'Strongest Potion' 'WH0 IS IT'\n",
      " 'Spirgius' 'TDS Matias' '' 'lec reject1' 'egoistical laner'\n",
      " 'h1gh society' 'minemaciek' '' 'Traypo' '' 'its so so cold' 'Peng04'\n",
      " 'Krag20' 'Tinelli' 'Kamiloo' 'Phreak Fanboy' '' 'Theocacs' 'xiaohuXXW'\n",
      " 'Terold' 'Ari7' 'LeonardoDiCassio' 'zyb' 'Kodokuna samurai' 'Lekcyc LFT'\n",
      " 'człowiek z gazu' '' 'Classy Femboy' 'ESC ÆTHER' 'KETAMINEKELLY99'\n",
      " 'Enes Jaeger' 'Myrtus' 'Paixdia' 'Fade 7' 'Kaimietis3' 'Pun1sher Reborn'\n",
      " 'Gilius1' 'Jukester' 'Shourdy' 'DETDERT TWITCHTV' 'befreesh' ''\n",
      " 'Stormaxx' 'METROOOOOOOOO' 'XyIIow' 'ocsaV' '17 03 2024' 'Qιyana player'\n",
      " 'C1oser' 'alvarooo' 'Xagog' 'Αετινοθ' 'Dus Ud' 'Noodle Tree' 'Evaaan'\n",
      " 'always believed' 'Hovvling' 'Angelzz' 'Alan234' 'snKarma' 'Sinerias'\n",
      " 'DONATELL0' 'CzekøChad' 'we go Loco' 'dridro' '' 'DenSygeKamel69'\n",
      " 'JSaito' 'ABAZA 1' 'DRUKARZ LP' 'mizumono1' 'Mirbs' 'Abmeraz'\n",
      " 'Joshua Sanders' 'Dekap' '23123412' 'is it just me' 'Odysseus131'\n",
      " 'Ryuk2016' 'Decay0' 'Moché' 'Mazs' 'S Ξ N S Ξ N' 'Gaethan' 'NZLWTXPTQD'\n",
      " 'Alaricey' '22 12 3 20 25' 'Kämusari' '' '' '011 hollga' 'Pyrkã'\n",
      " 'pure pure pure' 'Tojî Fushîguro' 'Daksider' 'Jαvier' 'TORE DEN F STORE'\n",
      " 'ZWYROO' 'TakeSet sama' '203cm Sigma Male' 'Hollywood Matze'\n",
      " 'Razørk Activoo' 'VΙadi' 'mid díffy' 'avarice61' 'ToothIess' ''\n",
      " 'μορφαριus' 'Yiken' 'SINMIVAK 2026' 'TMAX VROUM VROUM' 'gfghs'\n",
      " 'KOLDO 2026' 'Melonik sama' 'Noksu' 'bigdaddy23' 'Go Ha Go Ha'\n",
      " 'Kusa o Miko' 'rakan xayah' 'Shάnks' 'TT xiaohuangren' 'TH Jerkz'\n",
      " 'Ben Berko' 'kumšt' 'BIack Mamba1' 'Bitten BuIIet' 'Apelka'\n",
      " 'Captain AmerEika' 'see you later eu' 'SIXTY5' '' 'CN irelia' 'Musa51'\n",
      " 'SMRADOCH KAMIL' 'Heybiblee' 'senna victim' 'the voıces' 'Thebigestnoob1'\n",
      " 'Fëihóng Zhï Jiàn' 'Mountain Wolf' 'EAT RAW ASS' 'Peak Level'\n",
      " 'Skillshot Lander' 'tempjhdt4gc' 'Pepe armordillo' 'BDS xMatty'\n",
      " 'Erythrophobia' 'awefawefawefasdf' '' 'SLRSLRSLR' 'BACA 2026'\n",
      " 'Tsiperakos' 'MACRON EXPL0SION' 'Barkoon' 'ECSTASSSY' 'TWITTER OPAT04XD'\n",
      " '' 'Nio Nio Nii' 'Fleshyy' 'Odi11' 'Kieran Tierney' 'school phobia'\n",
      " 'Hannibal Barkas' 'FimbuIvetr' 'tomorrow' 'Boukada' 'Pandaa Is Legend'\n",
      " 'Inferior AD' 'Froid Glacial' 'el Adryh' 'Keduii123' 'Lyrokun' 'SPOLFCEI'\n",
      " 'Demon Pun1sher' 'Thørs Snorresson' 'Spoodersussi' 'TH Bellingham'\n",
      " 'Edgy213721372137' 'Mikaaaaa' 'TOPIrrelevant' 'Biscuitus' 'rinwiya'\n",
      " 'MARIABECERRA FAN' 'Lesnoy rab' 'Six10 x' 'Infoneral' '' 'Deádly'\n",
      " 'Peace οf Mind' '' 'Titaniâ Ash' 'I AM GRATEFUL' 'kasadei' 'leCLaRIGury'\n",
      " 'LΣNNY' 'tibor' 'Nelthariοn' 'ERSIN GOREN' 'gimme resources'\n",
      " 'a ronins purpose' 'SMRADOCH JACKIES' 'NIPshad0w' 'KC NEXT ADKING'\n",
      " 'Maxlore' '' 'faker baIIsack' '' 'Carnagε' 'cuzz fanx' 'Fαllεn 5'\n",
      " 'Agurin' 'G2ThreeEyedSwain' 'FIGHT FIGHT' 'Hans SamC' 'G2 Dracarys'\n",
      " 'Govna Isusova' 'Thumbs Down' 'Lathyrus' 'jxkskt' 'hovinko z kose'\n",
      " 'Tοαst' 'Doesnt Matterr' 'Zubac' 'quzquzquzAM' 'Ivεrn' 'GrompulusKevinº']\n"
     ]
    },
    {
     "ename": "TypeError",
     "evalue": "'Response' object is not subscriptable",
     "output_type": "error",
     "traceback": [
      "\u001B[1;31m---------------------------------------------------------------------------\u001B[0m",
      "\u001B[1;31mTypeError\u001B[0m                                 Traceback (most recent call last)",
      "Cell \u001B[1;32mIn[14], line 40\u001B[0m\n\u001B[0;32m     38\u001B[0m     \u001B[38;5;28mprint\u001B[39m(\u001B[38;5;124mf\u001B[39m\u001B[38;5;124m'\u001B[39m\u001B[38;5;124mError en la solicitud: \u001B[39m\u001B[38;5;132;01m{\u001B[39;00mresponse\u001B[38;5;241m.\u001B[39mstatus_code\u001B[38;5;132;01m}\u001B[39;00m\u001B[38;5;124m'\u001B[39m)\n\u001B[0;32m     39\u001B[0m     \u001B[38;5;28mprint\u001B[39m(response\u001B[38;5;241m.\u001B[39mtext)\n\u001B[1;32m---> 40\u001B[0m game_names_array \u001B[38;5;241m=\u001B[39m \u001B[43mresponse\u001B[49m\u001B[43m[\u001B[49m\u001B[38;5;124;43m'\u001B[39;49m\u001B[38;5;124;43m'\u001B[39;49m\u001B[43m]\u001B[49m\u001B[38;5;241m.\u001B[39mto_numpy()\n",
      "\u001B[1;31mTypeError\u001B[0m: 'Response' object is not subscriptable"
     ]
    }
   ],
   "source": [
    "import openpyxl\n",
    "!pip install riotwatcher\n",
    "import os\n",
    "import pickle\n",
    "from multiprocessing.context import Process\n",
    "import pandas as pd\n",
    "import json\n",
    "from datetime import datetime, timedelta\n",
    "import requests\n",
    "from riotwatcher import LolWatcher\n",
    "\n",
    "\n",
    "\n",
    "\n",
    "api_key = 'RGAPI-4b2db695-74c4-432b-bdc7-622de17bb34c'\n",
    "region = 'euw1'\n",
    "queue = 'RANKED_SOLO_5x5'\n",
    "\n",
    "url = f'https://{region}.api.riotgames.com/lol/league/v4/challengerleagues/by-queue/{queue}?api_key={api_key}'\n",
    "\n",
    "# Realizar la solicitud a la API\n",
    "response = requests.get(url)\n",
    "\n",
    "\n",
    "if response.status_code == 200:\n",
    "    # Convertir la respuesta JSON a un DataFrame\n",
    "    data = response.json()\n",
    "    df = pd.json_normalize(data['entries'])\n",
    "\n",
    "    # Guardar el DataFrame en un archivo Excel\n",
    "    df.to_excel('challenger_league_data.xlsx', index=False)\n",
    "    print('Datos guardados exitosamente en challenger_league_data.xlsx')\n",
    "\n",
    "    # Extraer nombres de juego (game names) del DataFrame\n",
    "    game_names_array = df['summonerName'].to_numpy()\n",
    "else:\n",
    "    print(f'Error en la solicitud: {response.status_code}')\n",
    "    print(response.text)\n",
    "\n"
   ]
  },
  {
   "cell_type": "code",
   "outputs": [
    {
     "name": "stdout",
     "output_type": "stream",
     "text": [
      "{\"status\":{\"message\":\"Data not found - summoner not found\",\"status_code\":404}}\n",
      "{\"status\":{\"message\":\"Data not found - summoner not found\",\"status_code\":404}}\n",
      "{\"status\":{\"message\":\"Data not found - summoner not found\",\"status_code\":404}}\n",
      "{\"status\":{\"message\":\"Data not found - summoner not found\",\"status_code\":404}}\n",
      "{\"status\":{\"message\":\"Data not found - summoner not found\",\"status_code\":404}}\n",
      "{\"status\":{\"message\":\"Data not found - summoner not found\",\"status_code\":404}}\n",
      "{\"status\":{\"message\":\"Data not found - summoner not found\",\"status_code\":404}}\n",
      "{\"status\":{\"message\":\"Data not found - summoner not found\",\"status_code\":404}}\n",
      "{\"status\":{\"message\":\"Data not found - summoner not found\",\"status_code\":404}}\n",
      "{\"status\":{\"message\":\"Data not found - summoner not found\",\"status_code\":404}}\n",
      "{\"status\":{\"message\":\"Data not found - summoner not found\",\"status_code\":404}}\n",
      "{\"status\":{\"message\":\"Data not found - summoner not found\",\"status_code\":404}}\n",
      "{\"status\":{\"message\":\"Data not found - summoner not found\",\"status_code\":404}}\n",
      "{\"status\":{\"message\":\"Data not found - summoner not found\",\"status_code\":404}}\n",
      "{\"status\":{\"message\":\"Data not found - summoner not found\",\"status_code\":404}}\n",
      "{\"status\":{\"message\":\"Data not found - summoner not found\",\"status_code\":404}}\n",
      "{\"status\":{\"message\":\"Data not found - summoner not found\",\"status_code\":404}}\n",
      "{\"status\":{\"message\":\"Data not found - summoner not found\",\"status_code\":404}}\n",
      "{\"status\":{\"message\":\"Data not found - summoner not found\",\"status_code\":404}}\n",
      "{\"status\":{\"message\":\"Data not found - summoner not found\",\"status_code\":404}}\n",
      "{\"status\":{\"message\":\"Data not found - summoner not found\",\"status_code\":404}}\n"
     ]
    }
   ],
   "source": [
    "import pandas as pd\n",
    "import requests\n",
    "import time\n",
    "\n",
    "challenger_league_data = 'challenger_league_data.xlsx'\n",
    "\n",
    "# Lee el archivo Excel\n",
    "df = pd.read_excel(challenger_league_data)\n",
    "\n",
    "summonerName = 'summonerName'\n",
    "arraySummoner = df[summonerName].to_numpy()\n",
    "\n",
    "datos_invocadores = []\n",
    "api_key = 'RGAPI-4b2db695-74c4-432b-bdc7-622de17bb34c'\n",
    "region = 'euw1'\n",
    "\n",
    "# Definir el tiempo de pausa entre las solicitudes (en segundos)\n",
    "pausa_entre_solicitudes = 1\n",
    "\n",
    "for summoner_name in arraySummoner:\n",
    "    url = f'https://{region}.api.riotgames.com/lol/summoner/v4/summoners/by-name/{summoner_name}?api_key={api_key}'\n",
    "\n",
    "    response = requests.get(url)\n",
    "\n",
    "    if response.status_code == 200:\n",
    "        summoner_data = response.json()\n",
    "        datos_invocadores.append(summoner_data)\n",
    "    else:\n",
    "        print(response.text)\n",
    "\n",
    "    # Pausa entre las solicitudes para cumplir con el límite de velocidad\n",
    "    time.sleep(pausa_entre_solicitudes)\n",
    "\n",
    "df_invocadores = pd.DataFrame(datos_invocadores)\n",
    "\n",
    "df_invocadores.to_excel('datos_invocadores.xlsx', index=False)\n",
    "\n"
   ],
   "metadata": {
    "collapsed": false,
    "ExecuteTime": {
     "end_time": "2024-03-07T12:16:44.851911Z",
     "start_time": "2024-03-07T12:09:37.112012Z"
    }
   },
   "id": "113db5d476621d78",
   "execution_count": 16
  },
  {
   "cell_type": "code",
   "outputs": [],
   "source": [
    "import pandas as pd\n",
    "import requests\n",
    "import time\n",
    "\n",
    "datos_invocadores_challenger = 'datos_invocadores.xlsx'\n",
    "\n",
    "df = pd.read_excel(datos_invocadores_challenger)\n",
    "\n",
    "puuid_column = 'puuid'\n",
    "arrayPuuid = df[puuid_column].to_numpy()\n",
    "\n",
    "idPartidas = []\n",
    "api_key = 'RGAPI-0f72248b-eefe-4157-b780-a74c939a2cd9'\n",
    "region = 'europe'\n",
    "\n",
    "# Definir el tiempo de pausa entre las solicitudes (en segundos)\n",
    "pausa_entre_solicitudes = 1\n",
    "# Definir el número máximo de solicitudes antes de pausar por un período más largo\n",
    "max_solicitudes_por_minuto = 100\n",
    "# Definir la duración de la pausa más larga (en segundos)\n",
    "pausa_larga = 120  # 2 minutos\n",
    "\n",
    "# Contador para realizar un seguimiento del número de solicitudes realizadas en el último minuto\n",
    "solicitudes_realizadas_ultimo_minuto = 0\n",
    "# Marca de tiempo para realizar un seguimiento del último reinicio del contador\n",
    "ultimo_reinicio_contador = time.time()\n",
    "\n",
    "for puuidID in arrayPuuid:\n",
    "    # Verificar si se ha excedido el límite de solicitudes a largo plazo\n",
    "    tiempo_transcurrido_desde_reinicio = time.time() - ultimo_reinicio_contador\n",
    "    if tiempo_transcurrido_desde_reinicio < 120 and solicitudes_realizadas_ultimo_minuto >= max_solicitudes_por_minuto:\n",
    "        # Pausa más larga si se ha excedido el límite de solicitudes a largo plazo\n",
    "        tiempo_a_esperar = pausa_larga - tiempo_transcurrido_desde_reinicio\n",
    "        print(f\"Esperando {tiempo_a_esperar} segundos debido a límite de solicitudes a largo plazo...\")\n",
    "        time.sleep(tiempo_a_esperar)\n",
    "        # Reiniciar el contador y marcar el tiempo de reinicio\n",
    "        solicitudes_realizadas_ultimo_minuto = 0\n",
    "        ultimo_reinicio_contador = time.time()\n",
    "\n",
    "    url = f'https://{region}.api.riotgames.com/lol/match/v5/matches/by-puuid/{puuidID}/ids?start=0&count=100&api_key={api_key}'\n",
    "\n",
    "    response = requests.get(url)\n",
    "\n",
    "    if response.status_code == 200:\n",
    "        id_partidas = response.json()\n",
    "        idPartidas.append(id_partidas)\n",
    "        # Incrementar el contador de solicitudes realizadas en el último minuto\n",
    "        solicitudes_realizadas_ultimo_minuto += 1\n",
    "    else:\n",
    "        print(response.text)\n",
    "\n",
    "    # Pausa entre las solicitudes para cumplir con el límite de velocidad\n",
    "    time.sleep(pausa_entre_solicitudes)\n",
    "\n",
    "df_id_partidas = pd.DataFrame(idPartidas)\n",
    "\n",
    "df_id_partidas.to_excel('idPartidas.xlsx', index=False)\n",
    "\n"
   ],
   "metadata": {
    "collapsed": false,
    "ExecuteTime": {
     "end_time": "2024-03-13T19:59:31.469095Z",
     "start_time": "2024-03-13T19:52:54.007172Z"
    }
   },
   "id": "a7b161c42cf5b2b7",
   "execution_count": 2
  },
  {
   "cell_type": "code",
   "outputs": [],
   "source": [],
   "metadata": {
    "collapsed": false,
    "ExecuteTime": {
     "end_time": "2024-03-07T12:49:55.950712Z",
     "start_time": "2024-03-07T12:49:08.964381Z"
    }
   },
   "id": "1caec3d305f92c03",
   "execution_count": 23
  },
  {
   "cell_type": "code",
   "outputs": [
    {
     "name": "stdout",
     "output_type": "stream",
     "text": [
      "Datos guardados exitosamente en datos_partida.json\n"
     ]
    }
   ],
   "source": [
    "import requests\n",
    "import json\n",
    "\n",
    "# URL de la consulta\n",
    "url = 'https://europe.api.riotgames.com/lol/match/v5/matches/EUW1_6842443968?api_key=RGAPI-4b2db695-74c4-432b-bdc7-622de17bb34c'\n",
    "\n",
    "# Realizar la solicitud a la API\n",
    "response = requests.get(url)\n",
    "\n",
    "# Verificar si la solicitud fue exitosa\n",
    "if response.status_code == 200:\n",
    "    # Convertir la respuesta JSON en un diccionario Python\n",
    "    data = response.json()\n",
    "\n",
    "    # Guardar los datos en un archivo JSON\n",
    "    with open('datos_partida.json', 'w') as file:\n",
    "        json.dump(data, file, indent=4)\n",
    "\n",
    "    print('Datos guardados exitosamente en datos_partida.json')\n",
    "else:\n",
    "    print(f'Error en la solicitud: {response.status_code}')\n",
    "    print(response.text)\n"
   ],
   "metadata": {
    "collapsed": false,
    "ExecuteTime": {
     "end_time": "2024-03-07T13:00:48.669176Z",
     "start_time": "2024-03-07T13:00:48.158543Z"
    }
   },
   "id": "85bd4e2af3f4a6d9",
   "execution_count": 24
  },
  {
   "cell_type": "code",
   "outputs": [
    {
     "name": "stdout",
     "output_type": "stream",
     "text": [
      "Error en la solicitud para la partida EUW1_6846407209: 500\n",
      "{\"status\":{\"message\":\"Internal server error\",\"status_code\":500}}\n",
      "Error en la solicitud para la partida EUW1_6851887482: 500\n",
      "{\"status\":{\"message\":\"Internal server error\",\"status_code\":500}}\n",
      "Error en la solicitud para la partida EUW1_6851320738: 500\n",
      "{\"status\":{\"message\":\"Internal server error\",\"status_code\":500}}\n",
      "Error en la solicitud para la partida EUW1_6850728948: 500\n",
      "{\"status\":{\"message\":\"Internal server error\",\"status_code\":500}}\n",
      "Error en la solicitud para la partida EUW1_6852831446: 500\n",
      "{\"status\":{\"message\":\"Internal server error\",\"status_code\":500}}\n",
      "Error en la solicitud para la partida EUW1_6847821633: 500\n",
      "{\"status\":{\"message\":\"Internal server error\",\"status_code\":500}}\n",
      "Error en la solicitud para la partida EUW1_6850556749: 500\n",
      "{\"status\":{\"message\":\"Internal server error\",\"status_code\":500}}\n",
      "Error en la solicitud para la partida EUW1_6851765752: 500\n",
      "{\"status\":{\"message\":\"Internal server error\",\"status_code\":500}}\n",
      "Error en la solicitud para la partida EUW1_6848999877: 500\n",
      "{\"status\":{\"message\":\"Internal server error\",\"status_code\":500}}\n",
      "Error en la solicitud para la partida EUW1_6850918223: 500\n",
      "{\"status\":{\"message\":\"Internal server error\",\"status_code\":500}}\n",
      "Error en la solicitud para la partida EUW1_6845513797: 500\n",
      "{\"status\":{\"message\":\"Internal server error\",\"status_code\":500}}\n",
      "Error en la solicitud para la partida EUW1_6825870467: 500\n",
      "{\"status\":{\"message\":\"Internal server error\",\"status_code\":500}}\n",
      "Error en la solicitud para la partida EUW1_6851714987: 500\n",
      "{\"status\":{\"message\":\"Internal server error\",\"status_code\":500}}\n",
      "Error en la solicitud para la partida EUW1_6845070883: 500\n",
      "{\"status\":{\"message\":\"Internal server error\",\"status_code\":500}}\n",
      "Error en la solicitud para la partida EUW1_6850282171: 500\n",
      "{\"status\":{\"message\":\"Internal server error\",\"status_code\":500}}\n",
      "Error en la solicitud para la partida EUW1_6844645808: 500\n",
      "{\"status\":{\"message\":\"Internal server error\",\"status_code\":500}}\n",
      "Error en la solicitud para la partida EUW1_6824519605: 500\n",
      "{\"status\":{\"message\":\"Internal server error\",\"status_code\":500}}\n",
      "Error en la solicitud para la partida EUW1_6839864569: 500\n",
      "{\"status\":{\"message\":\"Internal server error\",\"status_code\":500}}\n",
      "Error en la solicitud para la partida EUW1_6843723062: 500\n",
      "{\"status\":{\"message\":\"Internal server error\",\"status_code\":500}}\n",
      "Error en la solicitud para la partida EUW1_6842645973: 500\n",
      "{\"status\":{\"message\":\"Internal server error\",\"status_code\":500}}\n",
      "Error en la solicitud para la partida EUW1_6832459886: 500\n",
      "{\"status\":{\"message\":\"Internal server error\",\"status_code\":500}}\n",
      "Error en la solicitud para la partida EUW1_6832247752: 500\n",
      "{\"status\":{\"message\":\"Internal server error\",\"status_code\":500}}\n",
      "Error en la solicitud para la partida EUW1_6837289513: 500\n",
      "{\"status\":{\"message\":\"Internal server error\",\"status_code\":500}}\n",
      "Error en la solicitud para la partida EUW1_6835138639: 500\n",
      "{\"status\":{\"message\":\"Internal server error\",\"status_code\":500}}\n",
      "Error en la solicitud para la partida EUW1_6839003729: 500\n",
      "{\"status\":{\"message\":\"Internal server error\",\"status_code\":500}}\n",
      "Datos de todas las partidas guardados exitosamente en datos_TodasPartidas.json\n"
     ]
    }
   ],
   "source": [
    "import pandas as pd\n",
    "import requests\n",
    "import json\n",
    "import time\n",
    "\n",
    "# Ruta al archivo Excel que contiene los IDs de las partidas\n",
    "excel_path = 'idPartidasUnaColumna.xlsx'\n",
    "\n",
    "# Lee el archivo Excel\n",
    "df = pd.read_excel(excel_path)\n",
    "\n",
    "# Convertir las columnas del DataFrame a una lista\n",
    "partidas = df['idPartidas'].tolist()\n",
    "\n",
    "# Lista para almacenar los datos de todas las partidas\n",
    "datos_todasPartidas = []\n",
    "\n",
    "# URL base de la API\n",
    "url_base = 'https://europe.api.riotgames.com/lol/match/v5/matches/'\n",
    "\n",
    "# Clave de la API\n",
    "api_key = 'RGAPI-0f72248b-eefe-4157-b780-a74c939a2cd9'\n",
    "\n",
    "# Contadores para cumplir con los límites de velocidad\n",
    "requests_hechas = 0\n",
    "tiempo_inicio = time.time()\n",
    "\n",
    "# Realizar una solicitud para cada partida\n",
    "for partida_id in partidas:\n",
    "    # Construir la URL para la partida actual\n",
    "    url = f'{url_base}{partida_id}?api_key={api_key}'\n",
    "\n",
    "    # Realizar la solicitud a la API\n",
    "    response = requests.get(url)\n",
    "\n",
    "    # Verificar si la solicitud fue exitosa\n",
    "    if response.status_code == 200:\n",
    "        # Convertir la respuesta JSON en un diccionario Python\n",
    "        datos_partida = response.json()\n",
    "\n",
    "        # Agregar los datos de la partida a la lista de datos de todas las partidas\n",
    "        datos_todasPartidas.append(datos_partida)\n",
    "\n",
    "        # Incrementar el contador de solicitudes realizadas\n",
    "        requests_hechas += 1\n",
    "\n",
    "        # Verificar si se ha alcanzado el límite de solicitudes por segundo\n",
    "        if requests_hechas == 20:\n",
    "            tiempo_pasado = time.time() - tiempo_inicio\n",
    "            if tiempo_pasado < 1:\n",
    "                time.sleep(1 - tiempo_pasado)\n",
    "            requests_hechas = 0\n",
    "            tiempo_inicio = time.time()\n",
    "    elif response.status_code == 429:  # Limite de velocidad excedido\n",
    "        # Esperar el tiempo especificado por el encabezado \"Retry-After\"\n",
    "        tiempo_espera = int(response.headers['Retry-After'])\n",
    "        time.sleep(tiempo_espera)\n",
    "    else:\n",
    "        print(f'Error en la solicitud para la partida {partida_id}: {response.status_code}')\n",
    "        print(response.text)\n",
    "\n",
    "    # Pausa de 0.6 segundos entre cada solicitud\n",
    "    time.sleep(0.6)\n",
    "\n",
    "# Guardar los datos de todas las partidas en un archivo JSON\n",
    "with open('datos_todasPartidas.json', 'w') as file:\n",
    "    json.dump(datos_todasPartidas, file, indent=4)\n",
    "\n",
    "print('Datos de todas las partidas guardados exitosamente en datos_TodasPartidas.json')\n",
    "\n"
   ],
   "metadata": {
    "collapsed": false,
    "ExecuteTime": {
     "end_time": "2024-03-14T15:08:14.743921Z",
     "start_time": "2024-03-14T10:25:00.014559Z"
    }
   },
   "id": "e911f71f27101f52",
   "execution_count": 1
  },
  {
   "cell_type": "markdown",
   "source": [],
   "metadata": {
    "collapsed": false
   },
   "id": "afdedc359a740676"
  },
  {
   "cell_type": "code",
   "outputs": [],
   "source": [
    "\n"
   ],
   "metadata": {
    "collapsed": false
   },
   "id": "b1c2216e6fb8b0de"
  },
  {
   "cell_type": "code",
   "outputs": [],
   "source": [
    "import pandas as pd\n",
    "\n",
    "# Lee el archivo Excel\n",
    "excel_path = 'idPartidas.xlsx'\n",
    "df = pd.read_excel(excel_path)\n",
    "\n",
    "# Combina todas las columnas en una sola\n",
    "combined_column = pd.concat([df[col] for col in df.columns], ignore_index=True)\n",
    "\n",
    "# Guarda la columna combinada en un nuevo archivo Excel\n",
    "combined_column.to_excel('idPartidasBuenas.xlsx', index=False)\n"
   ],
   "metadata": {
    "collapsed": false,
    "ExecuteTime": {
     "end_time": "2024-03-13T21:56:42.309043Z",
     "start_time": "2024-03-13T21:56:41.880430Z"
    }
   },
   "id": "cd32b50a8a47c7e3",
   "execution_count": 3
  },
  {
   "cell_type": "code",
   "outputs": [
    {
     "name": "stdout",
     "output_type": "stream",
     "text": [
      "Archivo JSON guardado exitosamente.\n"
     ]
    }
   ],
   "source": [
    "\n",
    "import pandas as pd\n",
    "\n",
    "# Leer el archivo Excel\n",
    "df_excel = pd.read_excel('datos_campeones.xlsx')\n",
    "\n",
    "# Convertir el DataFrame a JSON\n",
    "df_json = df_excel.to_json('caracteristicas_campeones.json', orient='records')\n",
    "\n",
    "print(\"Archivo JSON guardado exitosamente.\")\n",
    "\n"
   ],
   "metadata": {
    "collapsed": false,
    "ExecuteTime": {
     "end_time": "2024-04-10T17:57:16.576843Z",
     "start_time": "2024-04-10T17:57:16.541518Z"
    }
   },
   "id": "1428acb0d7699e33",
   "execution_count": 7
  },
  {
   "cell_type": "code",
   "outputs": [
    {
     "ename": "TypeError",
     "evalue": "'int' object is not iterable",
     "output_type": "error",
     "traceback": [
      "\u001B[1;31m---------------------------------------------------------------------------\u001B[0m",
      "\u001B[1;31mTypeError\u001B[0m                                 Traceback (most recent call last)",
      "Cell \u001B[1;32mIn[14], line 17\u001B[0m\n\u001B[0;32m     15\u001B[0m \u001B[38;5;28;01mfor\u001B[39;00m partida \u001B[38;5;129;01min\u001B[39;00m partidas:\n\u001B[0;32m     16\u001B[0m     \u001B[38;5;28;01mfor\u001B[39;00m equipo \u001B[38;5;129;01min\u001B[39;00m partida:\n\u001B[1;32m---> 17\u001B[0m         \u001B[38;5;28;01mfor\u001B[39;00m i, campeon_id \u001B[38;5;129;01min\u001B[39;00m \u001B[38;5;28menumerate\u001B[39m(equipo):\n\u001B[0;32m     18\u001B[0m             \u001B[38;5;28;01mif\u001B[39;00m \u001B[38;5;28misinstance\u001B[39m(campeon_id, \u001B[38;5;28mint\u001B[39m):  \u001B[38;5;66;03m# Verificar que campeon_id sea un entero\u001B[39;00m\n\u001B[0;32m     19\u001B[0m                 equipo[i] \u001B[38;5;241m=\u001B[39m dict_caracteristicas\u001B[38;5;241m.\u001B[39mget(campeon_id, {})  \u001B[38;5;66;03m# Obtener las características del campeón\u001B[39;00m\n",
      "\u001B[1;31mTypeError\u001B[0m: 'int' object is not iterable"
     ]
    }
   ],
   "source": [
    "import json\n",
    "\n",
    "\n",
    "with open('arraysPartidasResultado.json') as f:\n",
    "    partidas = json.load(f)\n",
    "\n",
    "\n",
    "with open('caracteristicas_campeones.json') as f:\n",
    "    caracteristicas_campeones = json.load(f)\n",
    "\n",
    "\n",
    "dict_caracteristicas = {campeon['ID']: campeon for campeon in caracteristicas_campeones}\n",
    "\n",
    "# Iterar sobre las partidas y agregar las características de los campeones\n",
    "for partida in partidas:\n",
    "    for equipo in partida:\n",
    "        for i, campeon_id in enumerate(equipo):\n",
    "            if isinstance(campeon_id, int):  # Verificar que campeon_id sea un entero\n",
    "                equipo[i] = dict_caracteristicas.get(campeon_id, {})  # Obtener las características del campeón\n",
    "\n",
    "# Guardar el JSON combinado\n",
    "with open('partidas_con_caracteristicas.json', 'w') as f:\n",
    "    json.dump(partidas, f, indent=4)\n",
    "\n",
    "print(\"JSON combinado guardado exitosamente.\")\n",
    "\n",
    "\n",
    "\n",
    "\n",
    "\n"
   ],
   "metadata": {
    "collapsed": false,
    "ExecuteTime": {
     "end_time": "2024-04-10T18:34:15.880391Z",
     "start_time": "2024-04-10T18:34:15.841021Z"
    }
   },
   "id": "f9267ee332558fef",
   "execution_count": 14
  },
  {
   "cell_type": "code",
   "outputs": [],
   "source": [],
   "metadata": {
    "collapsed": false
   },
   "id": "e7c0cdd55166575f"
  }
 ],
 "metadata": {
  "kernelspec": {
   "display_name": "Python 3",
   "language": "python",
   "name": "python3"
  },
  "language_info": {
   "codemirror_mode": {
    "name": "ipython",
    "version": 2
   },
   "file_extension": ".py",
   "mimetype": "text/x-python",
   "name": "python",
   "nbconvert_exporter": "python",
   "pygments_lexer": "ipython2",
   "version": "2.7.6"
  }
 },
 "nbformat": 4,
 "nbformat_minor": 5
}
