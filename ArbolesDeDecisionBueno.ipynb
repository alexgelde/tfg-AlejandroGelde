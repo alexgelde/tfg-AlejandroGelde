{
 "cells": [
  {
   "cell_type": "code",
   "execution_count": 1,
   "id": "initial_id",
   "metadata": {
    "collapsed": true,
    "ExecuteTime": {
     "end_time": "2024-05-04T15:30:43.201678Z",
     "start_time": "2024-05-04T15:30:43.135404Z"
    }
   },
   "outputs": [],
   "source": [
    "import json\n",
    "\n",
    "with open('arraysPartidasResultado.json') as file:\n",
    "    data_results = json.load(file)\n",
    "\n",
    "with open('caracteristicas_campeones.json') as file:\n",
    "    data_champions = json.load(file)\n",
    "\n"
   ]
  },
  {
   "cell_type": "code",
   "outputs": [
    {
     "data": {
      "text/plain": "   Result  Champ1_Difficulty  Champ1_HP  Champ1_Armor  Champ1_HPRegen  \\\n0       1                8.0      630.0          33.0             8.5   \n1       0                8.0      596.0          22.0             5.5   \n2       1                4.0      650.0          40.0             6.0   \n3       0                3.0      660.0          35.0             8.0   \n4       0                3.0      660.0          35.0             8.0   \n\n   Champ1_AttackDamage  Champ1_AttackSpeed  Champ2_Difficulty  Champ2_HP  \\\n0                 64.0               0.625                7.0      655.0   \n1                 55.0               0.625                7.0      600.0   \n2                 64.0               0.658                5.0      670.0   \n3                 69.0               0.665                7.0      658.0   \n4                 69.0               0.665                8.0      558.0   \n\n   Champ2_Armor  ...  Champ9_Armor  Champ9_HPRegen  Champ9_AttackDamage  \\\n0          27.0  ...     29.835366         6.41311            58.920732   \n1          20.0  ...     28.000000         3.50000            50.000000   \n2          38.0  ...     29.000000         3.75000            62.000000   \n3          30.0  ...     29.835366         6.41311            58.920732   \n4          19.0  ...     24.000000         4.00000            62.000000   \n\n   Champ9_AttackSpeed  Champ10_Difficulty  Champ10_HP  Champ10_Armor  \\\n0            0.649543                 3.0       610.0           47.0   \n1            0.625000                 5.0       575.0           27.0   \n2            0.679000                 5.0       610.0           30.0   \n3            0.649543                 5.0       610.0           30.0   \n4            0.625000                 4.0       646.0           35.0   \n\n   Champ10_HPRegen  Champ10_AttackDamage  Champ10_AttackSpeed  \n0              8.5                  55.0                0.644  \n1              9.0                  61.0                0.645  \n2              5.0                  62.0                0.635  \n3              5.0                  62.0                0.635  \n4              8.5                  68.0                0.644  \n\n[5 rows x 61 columns]",
      "text/html": "<div>\n<style scoped>\n    .dataframe tbody tr th:only-of-type {\n        vertical-align: middle;\n    }\n\n    .dataframe tbody tr th {\n        vertical-align: top;\n    }\n\n    .dataframe thead th {\n        text-align: right;\n    }\n</style>\n<table border=\"1\" class=\"dataframe\">\n  <thead>\n    <tr style=\"text-align: right;\">\n      <th></th>\n      <th>Result</th>\n      <th>Champ1_Difficulty</th>\n      <th>Champ1_HP</th>\n      <th>Champ1_Armor</th>\n      <th>Champ1_HPRegen</th>\n      <th>Champ1_AttackDamage</th>\n      <th>Champ1_AttackSpeed</th>\n      <th>Champ2_Difficulty</th>\n      <th>Champ2_HP</th>\n      <th>Champ2_Armor</th>\n      <th>...</th>\n      <th>Champ9_Armor</th>\n      <th>Champ9_HPRegen</th>\n      <th>Champ9_AttackDamage</th>\n      <th>Champ9_AttackSpeed</th>\n      <th>Champ10_Difficulty</th>\n      <th>Champ10_HP</th>\n      <th>Champ10_Armor</th>\n      <th>Champ10_HPRegen</th>\n      <th>Champ10_AttackDamage</th>\n      <th>Champ10_AttackSpeed</th>\n    </tr>\n  </thead>\n  <tbody>\n    <tr>\n      <th>0</th>\n      <td>1</td>\n      <td>8.0</td>\n      <td>630.0</td>\n      <td>33.0</td>\n      <td>8.5</td>\n      <td>64.0</td>\n      <td>0.625</td>\n      <td>7.0</td>\n      <td>655.0</td>\n      <td>27.0</td>\n      <td>...</td>\n      <td>29.835366</td>\n      <td>6.41311</td>\n      <td>58.920732</td>\n      <td>0.649543</td>\n      <td>3.0</td>\n      <td>610.0</td>\n      <td>47.0</td>\n      <td>8.5</td>\n      <td>55.0</td>\n      <td>0.644</td>\n    </tr>\n    <tr>\n      <th>1</th>\n      <td>0</td>\n      <td>8.0</td>\n      <td>596.0</td>\n      <td>22.0</td>\n      <td>5.5</td>\n      <td>55.0</td>\n      <td>0.625</td>\n      <td>7.0</td>\n      <td>600.0</td>\n      <td>20.0</td>\n      <td>...</td>\n      <td>28.000000</td>\n      <td>3.50000</td>\n      <td>50.000000</td>\n      <td>0.625000</td>\n      <td>5.0</td>\n      <td>575.0</td>\n      <td>27.0</td>\n      <td>9.0</td>\n      <td>61.0</td>\n      <td>0.645</td>\n    </tr>\n    <tr>\n      <th>2</th>\n      <td>1</td>\n      <td>4.0</td>\n      <td>650.0</td>\n      <td>40.0</td>\n      <td>6.0</td>\n      <td>64.0</td>\n      <td>0.658</td>\n      <td>5.0</td>\n      <td>670.0</td>\n      <td>38.0</td>\n      <td>...</td>\n      <td>29.000000</td>\n      <td>3.75000</td>\n      <td>62.000000</td>\n      <td>0.679000</td>\n      <td>5.0</td>\n      <td>610.0</td>\n      <td>30.0</td>\n      <td>5.0</td>\n      <td>62.0</td>\n      <td>0.635</td>\n    </tr>\n    <tr>\n      <th>3</th>\n      <td>0</td>\n      <td>3.0</td>\n      <td>660.0</td>\n      <td>35.0</td>\n      <td>8.0</td>\n      <td>69.0</td>\n      <td>0.665</td>\n      <td>7.0</td>\n      <td>658.0</td>\n      <td>30.0</td>\n      <td>...</td>\n      <td>29.835366</td>\n      <td>6.41311</td>\n      <td>58.920732</td>\n      <td>0.649543</td>\n      <td>5.0</td>\n      <td>610.0</td>\n      <td>30.0</td>\n      <td>5.0</td>\n      <td>62.0</td>\n      <td>0.635</td>\n    </tr>\n    <tr>\n      <th>4</th>\n      <td>0</td>\n      <td>3.0</td>\n      <td>660.0</td>\n      <td>35.0</td>\n      <td>8.0</td>\n      <td>69.0</td>\n      <td>0.665</td>\n      <td>8.0</td>\n      <td>558.0</td>\n      <td>19.0</td>\n      <td>...</td>\n      <td>24.000000</td>\n      <td>4.00000</td>\n      <td>62.000000</td>\n      <td>0.625000</td>\n      <td>4.0</td>\n      <td>646.0</td>\n      <td>35.0</td>\n      <td>8.5</td>\n      <td>68.0</td>\n      <td>0.644</td>\n    </tr>\n  </tbody>\n</table>\n<p>5 rows × 61 columns</p>\n</div>"
     },
     "execution_count": 2,
     "metadata": {},
     "output_type": "execute_result"
    }
   ],
   "source": [
    "import pandas as pd\n",
    "\n",
    "# Transformamos la lista de campeones en un diccionario para facilitar el acceso a sus características por clave\n",
    "champions_features = {champ['Key']: champ for champ in data_champions}\n",
    "# Calculamos las medias de las características\n",
    "features_to_average = ['Difficulty', 'HP', 'Armor', 'HPRegen', 'AttackDamage', 'AttackSpeed']\n",
    "average_features = {feature: sum(champ[feature] for champ in champions_features.values()) / len(champions_features) for feature in features_to_average}\n",
    "\n",
    "combined_data = []\n",
    "\n",
    "# Iteramos sobre cada partida en data_results\n",
    "for match in data_results:\n",
    "    # Extrayendo el resultado del partido y los IDs de los campeones\n",
    "    match_result = match[0]\n",
    "    champion_ids = match[1:]\n",
    "\n",
    "    # Lista para almacenar las características combinadas de los campeones de la partida\n",
    "    match_features = []\n",
    "\n",
    "    # Sumar características de todos los campeones en la partida\n",
    "    for champ_id in champion_ids:\n",
    "        # Si el campeón está en nuestro diccionario de características, agregamos sus datos\n",
    "        if champ_id in champions_features:\n",
    "            champ_data = champions_features[champ_id]\n",
    "            match_features.extend([\n",
    "                champ_data['Difficulty'],\n",
    "                champ_data['HP'],\n",
    "                champ_data['Armor'],\n",
    "                champ_data['HPRegen'],\n",
    "                champ_data['AttackDamage'],\n",
    "                champ_data['AttackSpeed']\n",
    "            ])\n",
    "        else:\n",
    "\n",
    "            # Usamos las medias si el campeón no está en el diccionario\n",
    "            match_features.extend([average_features[feat] for feat in features_to_average])\n",
    "\n",
    "    # Agregamos el resultado del partido y las características acumuladas a los datos combinados\n",
    "    combined_data.append([match_result] + match_features)\n",
    "\n",
    "# Convertimos la lista combinada en un DataFrame para su manipulación y visualización\n",
    "column_names = ['Result'] + [f'Champ{i}_{feat}' for i in range(1, 11)\n",
    "                             for feat in ['Difficulty', 'HP', 'Armor', 'HPRegen', 'AttackDamage', 'AttackSpeed']]\n",
    "df_combined = pd.DataFrame(combined_data, columns=column_names)\n",
    "\n",
    "# Mostramos las primeras filas del DataFrame para verificar\n",
    "df_combined.head()"
   ],
   "metadata": {
    "collapsed": false,
    "ExecuteTime": {
     "end_time": "2024-05-04T15:30:45.643958Z",
     "start_time": "2024-05-04T15:30:45.471251Z"
    }
   },
   "id": "417f9ea1242c43ef",
   "execution_count": 2
  },
  {
   "cell_type": "code",
   "outputs": [
    {
     "data": {
      "text/plain": "(((11026, 60), (11026,)), ((2757, 60), (2757,)))"
     },
     "execution_count": 3,
     "metadata": {},
     "output_type": "execute_result"
    }
   ],
   "source": [
    "import joblib\n",
    "from sklearn.model_selection import train_test_split\n",
    "from sklearn.preprocessing import MinMaxScaler\n",
    "\n",
    "# Separar los datos en variables independientes (X) y la variable dependiente (y)\n",
    "X = df_combined.iloc[:, 1:].values  # Todas las filas, todas las columnas excepto la primera\n",
    "y = df_combined.iloc[:, 0].values  # Todas las filas, solo la primera columna (resultado del partido)\n",
    "\n",
    "# Normalizar las características\n",
    "scaler = MinMaxScaler()\n",
    "X_scaled = scaler.fit_transform(X)\n",
    "# Guardar el scaler para su uso posterior\n",
    "joblib.dump(scaler, 'scaler.gz')\n",
    "# Dividir los datos en conjunto de entrenamiento y prueba\n",
    "X_train, X_test, y_train, y_test = train_test_split(X_scaled, y, test_size=0.2, random_state=42)\n",
    "\n",
    "# Mostramos las dimensiones de los conjuntos de entrenamiento y prueba para confirmar\n",
    "(X_train.shape, y_train.shape), (X_test.shape, y_test.shape)\n"
   ],
   "metadata": {
    "collapsed": false,
    "ExecuteTime": {
     "end_time": "2024-05-04T15:30:48.440162Z",
     "start_time": "2024-05-04T15:30:48.183148Z"
    }
   },
   "id": "afdd194622db5ea3",
   "execution_count": 3
  },
  {
   "cell_type": "code",
   "outputs": [
    {
     "name": "stdout",
     "output_type": "stream",
     "text": [
      "Accuracy del entrenamiento: 1.00\n",
      "Accuracy del conjunto de prueba: 0.79\n"
     ]
    }
   ],
   "source": [
    "import pandas as pd\n",
    "from sklearn.model_selection import train_test_split\n",
    "from sklearn.tree import DecisionTreeClassifier\n",
    "from sklearn.metrics import accuracy_score\n",
    "from sklearn import tree\n",
    "import matplotlib.pyplot as plt\n",
    "\n",
    "\n",
    "\n",
    "# Crear el modelo de árbol de decisión\n",
    "clf = DecisionTreeClassifier(random_state=42)\n",
    "\n",
    "# Entrenar el modelo\n",
    "clf.fit(X_train, y_train)\n",
    "\n",
    "# Realizar predicciones sobre el conjunto de entrenamiento\n",
    "y_train_pred = clf.predict(X_train)\n",
    "\n",
    "# Calcular el accuracy del conjunto de entrenamiento\n",
    "accuracy_entrenamiento = accuracy_score(y_train, y_train_pred)\n",
    "\n",
    "print(f\"Accuracy del entrenamiento: {accuracy_entrenamiento:.2f}\")\n",
    "\n",
    "# Realizar predicciones sobre el conjunto de prueba\n",
    "y_pred = clf.predict(X_test)\n",
    "\n",
    "# Evaluar el modelo\n",
    "accuracy = accuracy_score(y_test, y_pred)\n",
    "print(f\"Accuracy del conjunto de prueba: {accuracy:.2f}\")\n"
   ],
   "metadata": {
    "collapsed": false,
    "ExecuteTime": {
     "end_time": "2024-05-04T15:52:03.374715Z",
     "start_time": "2024-05-04T15:52:03.132102Z"
    }
   },
   "id": "da80f4081c999d1c",
   "execution_count": 7
  },
  {
   "cell_type": "code",
   "outputs": [
    {
     "name": "stdout",
     "output_type": "stream",
     "text": [
      "Profundidad 1: Precisión media = 0.5447, Desviación estándar = 0.0082\n",
      "Profundidad 2: Precisión media = 0.5481, Desviación estándar = 0.0118\n",
      "Profundidad 3: Precisión media = 0.5529, Desviación estándar = 0.0119\n",
      "Profundidad 4: Precisión media = 0.5555, Desviación estándar = 0.0111\n",
      "Profundidad 5: Precisión media = 0.5650, Desviación estándar = 0.0077\n",
      "Profundidad 6: Precisión media = 0.5735, Desviación estándar = 0.0136\n",
      "Profundidad 7: Precisión media = 0.5841, Desviación estándar = 0.0128\n",
      "Profundidad 8: Precisión media = 0.5994, Desviación estándar = 0.0113\n",
      "Profundidad 9: Precisión media = 0.6166, Desviación estándar = 0.0104\n",
      "Profundidad 10: Precisión media = 0.6407, Desviación estándar = 0.0159\n",
      "Profundidad 11: Precisión media = 0.6609, Desviación estándar = 0.0206\n",
      "Profundidad 12: Precisión media = 0.6842, Desviación estándar = 0.0137\n",
      "Profundidad 13: Precisión media = 0.7030, Desviación estándar = 0.0101\n",
      "Profundidad 14: Precisión media = 0.7152, Desviación estándar = 0.0152\n",
      "Profundidad 15: Precisión media = 0.7273, Desviación estándar = 0.0154\n",
      "Profundidad 16: Precisión media = 0.7424, Desviación estándar = 0.0156\n",
      "Profundidad 17: Precisión media = 0.7503, Desviación estándar = 0.0148\n",
      "Profundidad 18: Precisión media = 0.7584, Desviación estándar = 0.0186\n",
      "Profundidad 19: Precisión media = 0.7643, Desviación estándar = 0.0132\n",
      "Profundidad 20: Precisión media = 0.7742, Desviación estándar = 0.0111\n",
      "La profundidad óptima es 20 con una precisión media de 0.7742\n"
     ]
    }
   ],
   "source": [
    "import numpy as np\n",
    "from sklearn.tree import DecisionTreeClassifier\n",
    "from sklearn.model_selection import cross_val_score, KFold\n",
    "\n",
    "# Suponiendo que X y y ya están definidos\n",
    "kf = KFold(n_splits=5, shuffle=True, random_state=42)  # Define el método de validación cruzada\n",
    "\n",
    "depths = range(1, 21)  # Rango de profundidades para explorar\n",
    "mean_scores = []\n",
    "\n",
    "for depth in depths:\n",
    "    tree_model = DecisionTreeClassifier(max_depth=depth, random_state=42)\n",
    "    scores = cross_val_score(tree_model, X, y, cv=kf, scoring='accuracy')  # Calcula la precisión para cada fold\n",
    "    mean_scores.append(np.mean(scores))\n",
    "    print(f\"Profundidad {depth}: Precisión media = {np.mean(scores):.4f}, Desviación estándar = {np.std(scores):.4f}\")\n",
    "\n",
    "# Encontrar la profundidad con la mejor precisión media\n",
    "optimal_depth = depths[np.argmax(mean_scores)]\n",
    "print(f\"La profundidad óptima es {optimal_depth} con una precisión media de {max(mean_scores):.4f}\")\n"
   ],
   "metadata": {
    "collapsed": false,
    "ExecuteTime": {
     "end_time": "2024-05-04T15:35:07.736930Z",
     "start_time": "2024-05-04T15:34:55.596413Z"
    }
   },
   "id": "a9a2cdd020e13a78",
   "execution_count": 5
  },
  {
   "cell_type": "code",
   "outputs": [],
   "source": [],
   "metadata": {
    "collapsed": false
   },
   "id": "52cf61721d9d58b5"
  }
 ],
 "metadata": {
  "kernelspec": {
   "display_name": "Python 3",
   "language": "python",
   "name": "python3"
  },
  "language_info": {
   "codemirror_mode": {
    "name": "ipython",
    "version": 2
   },
   "file_extension": ".py",
   "mimetype": "text/x-python",
   "name": "python",
   "nbconvert_exporter": "python",
   "pygments_lexer": "ipython2",
   "version": "2.7.6"
  }
 },
 "nbformat": 4,
 "nbformat_minor": 5
}
