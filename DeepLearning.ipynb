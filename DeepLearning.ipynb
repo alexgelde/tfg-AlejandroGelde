{
 "cells": [
  {
   "cell_type": "code",
   "execution_count": 1,
   "id": "initial_id",
   "metadata": {
    "collapsed": true,
    "ExecuteTime": {
     "end_time": "2024-04-18T10:03:08.867420Z",
     "start_time": "2024-04-18T10:03:08.255203Z"
    }
   },
   "outputs": [
    {
     "data": {
      "text/plain": "        ID  Key     Name  Difficulty   HP  Armor  HPRegen  AttackDamage  \\\n0   Aatrox  266   Aatrox           4  650     38     3.00            60   \n1     Ahri  103     Ahri           5  590     21     2.50            53   \n2    Akali   84    Akali           7  570     23     9.00            62   \n3   Akshan  166   Akshan           0  630     26     3.75            52   \n4  Alistar   12  Alistar           7  685     47     8.50            62   \n\n   AttackSpeed  \n0        0.651  \n1        0.668  \n2        0.625  \n3        0.638  \n4        0.625  ",
      "text/html": "<div>\n<style scoped>\n    .dataframe tbody tr th:only-of-type {\n        vertical-align: middle;\n    }\n\n    .dataframe tbody tr th {\n        vertical-align: top;\n    }\n\n    .dataframe thead th {\n        text-align: right;\n    }\n</style>\n<table border=\"1\" class=\"dataframe\">\n  <thead>\n    <tr style=\"text-align: right;\">\n      <th></th>\n      <th>ID</th>\n      <th>Key</th>\n      <th>Name</th>\n      <th>Difficulty</th>\n      <th>HP</th>\n      <th>Armor</th>\n      <th>HPRegen</th>\n      <th>AttackDamage</th>\n      <th>AttackSpeed</th>\n    </tr>\n  </thead>\n  <tbody>\n    <tr>\n      <th>0</th>\n      <td>Aatrox</td>\n      <td>266</td>\n      <td>Aatrox</td>\n      <td>4</td>\n      <td>650</td>\n      <td>38</td>\n      <td>3.00</td>\n      <td>60</td>\n      <td>0.651</td>\n    </tr>\n    <tr>\n      <th>1</th>\n      <td>Ahri</td>\n      <td>103</td>\n      <td>Ahri</td>\n      <td>5</td>\n      <td>590</td>\n      <td>21</td>\n      <td>2.50</td>\n      <td>53</td>\n      <td>0.668</td>\n    </tr>\n    <tr>\n      <th>2</th>\n      <td>Akali</td>\n      <td>84</td>\n      <td>Akali</td>\n      <td>7</td>\n      <td>570</td>\n      <td>23</td>\n      <td>9.00</td>\n      <td>62</td>\n      <td>0.625</td>\n    </tr>\n    <tr>\n      <th>3</th>\n      <td>Akshan</td>\n      <td>166</td>\n      <td>Akshan</td>\n      <td>0</td>\n      <td>630</td>\n      <td>26</td>\n      <td>3.75</td>\n      <td>52</td>\n      <td>0.638</td>\n    </tr>\n    <tr>\n      <th>4</th>\n      <td>Alistar</td>\n      <td>12</td>\n      <td>Alistar</td>\n      <td>7</td>\n      <td>685</td>\n      <td>47</td>\n      <td>8.50</td>\n      <td>62</td>\n      <td>0.625</td>\n    </tr>\n  </tbody>\n</table>\n</div>"
     },
     "execution_count": 1,
     "metadata": {},
     "output_type": "execute_result"
    }
   ],
   "source": [
    "import pandas as pd\n",
    "\n",
    "# Cargar los datos de los campeones desde el archivo JSON\n",
    "df_campeones = pd.read_json('estadisticasCampeones.json')\n",
    "\n",
    "# Visualizar los primeros registros para confirmar la carga\n",
    "df_campeones.head()\n",
    "from sklearn.preprocessing import OneHotEncoder, MinMaxScaler\n",
    "\n",
    "# Extraer los IDs de los campeones para el one-hot encoding\n",
    "champion_ids = df_campeones['Key'].values.reshape(-1, 1)\n",
    "\n",
    "# Crear el encoder y transformar los datos\n",
    "encoder = OneHotEncoder(sparse=False)\n",
    "champion_onehot = encoder.fit_transform(champion_ids)\n",
    "\n",
    "# Normalizar las estadísticas\n",
    "scaler = MinMaxScaler()\n",
    "stats_scaled = scaler.fit_transform(df_campeones[['Difficulty', 'HP', 'Armor', 'HPRegen', 'AttackDamage', 'AttackSpeed']])\n",
    "\n",
    "# Combinar one-hot encoded IDs con estadísticas normalizadas\n",
    "import numpy as np\n",
    "champion_features = np.hstack((champion_onehot, stats_scaled))\n",
    "\n",
    "# Mostrar las dimensiones del conjunto de características resultante\n",
    "champion_features.shape\n"
   ]
  },
  {
   "cell_type": "code",
   "outputs": [
    {
     "name": "stderr",
     "output_type": "stream",
     "text": [
      "C:\\Users\\USUARIO\\anaconda3\\Lib\\site-packages\\sklearn\\preprocessing\\_encoders.py:868: FutureWarning: `sparse` was renamed to `sparse_output` in version 1.2 and will be removed in 1.4. `sparse_output` is ignored unless you leave `sparse` to its default value.\n",
      "  warnings.warn(\n"
     ]
    },
    {
     "data": {
      "text/plain": "(164, 170)"
     },
     "execution_count": 2,
     "metadata": {},
     "output_type": "execute_result"
    }
   ],
   "source": [
    "from sklearn.preprocessing import OneHotEncoder, MinMaxScaler\n",
    "\n",
    "# Extraer los IDs de los campeones para el one-hot encoding\n",
    "champion_ids = df_campeones['Key'].values.reshape(-1, 1)\n",
    "\n",
    "# Crear el encoder y transformar los datos\n",
    "encoder = OneHotEncoder(sparse=False)\n",
    "champion_onehot = encoder.fit_transform(champion_ids)\n",
    "\n",
    "# Normalizar las estadísticas\n",
    "scaler = MinMaxScaler()\n",
    "stats_scaled = scaler.fit_transform(df_campeones[['Difficulty', 'HP', 'Armor', 'HPRegen', 'AttackDamage', 'AttackSpeed']])\n",
    "\n",
    "# Combinar one-hot encoded IDs con estadísticas normalizadas\n",
    "import numpy as np\n",
    "champion_features = np.hstack((champion_onehot, stats_scaled))\n",
    "\n",
    "# Mostrar las dimensiones del conjunto de características resultante\n",
    "champion_features.shape\n"
   ],
   "metadata": {
    "collapsed": false,
    "ExecuteTime": {
     "end_time": "2024-04-18T10:04:49.438647Z",
     "start_time": "2024-04-18T10:04:48.557378Z"
    }
   },
   "id": "38c29f04e9a905c1",
   "execution_count": 2
  },
  {
   "cell_type": "code",
   "outputs": [
    {
     "name": "stderr",
     "output_type": "stream",
     "text": [
      "C:\\Users\\USUARIO\\anaconda3\\Lib\\site-packages\\sklearn\\preprocessing\\_encoders.py:868: FutureWarning: `sparse` was renamed to `sparse_output` in version 1.2 and will be removed in 1.4. `sparse_output` is ignored unless you leave `sparse` to its default value.\n",
      "  warnings.warn(\n"
     ]
    },
    {
     "data": {
      "text/plain": "((13783, 1640), (13783,))"
     },
     "execution_count": 4,
     "metadata": {},
     "output_type": "execute_result"
    }
   ],
   "source": [
    "import json\n",
    "import numpy as np\n",
    "\n",
    "with open('arraysPartidasResultado.json', 'r') as file:\n",
    "    partidas_data = json.load(file)\n",
    "\n",
    "encoder = OneHotEncoder(sparse=False, handle_unknown='ignore')\n",
    "champion_onehot = encoder.fit_transform(champion_ids)\n",
    "# Extraer características y etiquetas\n",
    "partidas_features = []\n",
    "partidas_labels = []\n",
    "\n",
    "for partida in partidas_data:\n",
    "    \n",
    "    partidas_labels.append(partida[0])\n",
    "   \n",
    "    champions = partida[1:]\n",
    "    #Convertimos a one-hot\n",
    "    one_hot_encoded = encoder.transform(np.array(champions).reshape(-1, 1)).flatten()\n",
    "    partidas_features.append(one_hot_encoded)\n",
    "\n",
    "\n",
    "# Convertir listas a arrays de NumPy\n",
    "\n",
    "partidas_features = np.array(partidas_features)\n",
    "partidas_labels = np.array(partidas_labels)\n",
    "\n",
    "# Visualizar dimensiones para confirmar\n",
    "partidas_features.shape, partidas_labels.shape\n"
   ],
   "metadata": {
    "collapsed": false,
    "ExecuteTime": {
     "end_time": "2024-04-18T10:12:58.027842Z",
     "start_time": "2024-04-18T10:12:55.614267Z"
    }
   },
   "id": "bdb77c914db2e35d",
   "execution_count": 4
  },
  {
   "cell_type": "code",
   "outputs": [
    {
     "data": {
      "text/plain": "\u001B[1mModel: \"sequential_1\"\u001B[0m\n",
      "text/html": "<pre style=\"white-space:pre;overflow-x:auto;line-height:normal;font-family:Menlo,'DejaVu Sans Mono',consolas,'Courier New',monospace\"><span style=\"font-weight: bold\">Model: \"sequential_1\"</span>\n</pre>\n"
     },
     "metadata": {},
     "output_type": "display_data"
    },
    {
     "data": {
      "text/plain": "┏━━━━━━━━━━━━━━━━━━━━━━━━━━━━━━━━━┳━━━━━━━━━━━━━━━━━━━━━━━━┳━━━━━━━━━━━━━━━┓\n┃\u001B[1m \u001B[0m\u001B[1mLayer (type)                   \u001B[0m\u001B[1m \u001B[0m┃\u001B[1m \u001B[0m\u001B[1mOutput Shape          \u001B[0m\u001B[1m \u001B[0m┃\u001B[1m \u001B[0m\u001B[1m      Param #\u001B[0m\u001B[1m \u001B[0m┃\n┡━━━━━━━━━━━━━━━━━━━━━━━━━━━━━━━━━╇━━━━━━━━━━━━━━━━━━━━━━━━╇━━━━━━━━━━━━━━━┩\n│ dense_4 (\u001B[38;5;33mDense\u001B[0m)                 │ (\u001B[38;5;45mNone\u001B[0m, \u001B[38;5;34m128\u001B[0m)            │       \u001B[38;5;34m210,048\u001B[0m │\n├─────────────────────────────────┼────────────────────────┼───────────────┤\n│ dropout (\u001B[38;5;33mDropout\u001B[0m)               │ (\u001B[38;5;45mNone\u001B[0m, \u001B[38;5;34m128\u001B[0m)            │             \u001B[38;5;34m0\u001B[0m │\n├─────────────────────────────────┼────────────────────────┼───────────────┤\n│ dense_5 (\u001B[38;5;33mDense\u001B[0m)                 │ (\u001B[38;5;45mNone\u001B[0m, \u001B[38;5;34m64\u001B[0m)             │         \u001B[38;5;34m8,256\u001B[0m │\n├─────────────────────────────────┼────────────────────────┼───────────────┤\n│ dropout_1 (\u001B[38;5;33mDropout\u001B[0m)             │ (\u001B[38;5;45mNone\u001B[0m, \u001B[38;5;34m64\u001B[0m)             │             \u001B[38;5;34m0\u001B[0m │\n├─────────────────────────────────┼────────────────────────┼───────────────┤\n│ dense_6 (\u001B[38;5;33mDense\u001B[0m)                 │ (\u001B[38;5;45mNone\u001B[0m, \u001B[38;5;34m32\u001B[0m)             │         \u001B[38;5;34m2,080\u001B[0m │\n├─────────────────────────────────┼────────────────────────┼───────────────┤\n│ dropout_2 (\u001B[38;5;33mDropout\u001B[0m)             │ (\u001B[38;5;45mNone\u001B[0m, \u001B[38;5;34m32\u001B[0m)             │             \u001B[38;5;34m0\u001B[0m │\n├─────────────────────────────────┼────────────────────────┼───────────────┤\n│ dense_7 (\u001B[38;5;33mDense\u001B[0m)                 │ (\u001B[38;5;45mNone\u001B[0m, \u001B[38;5;34m1\u001B[0m)              │            \u001B[38;5;34m33\u001B[0m │\n└─────────────────────────────────┴────────────────────────┴───────────────┘\n",
      "text/html": "<pre style=\"white-space:pre;overflow-x:auto;line-height:normal;font-family:Menlo,'DejaVu Sans Mono',consolas,'Courier New',monospace\">┏━━━━━━━━━━━━━━━━━━━━━━━━━━━━━━━━━┳━━━━━━━━━━━━━━━━━━━━━━━━┳━━━━━━━━━━━━━━━┓\n┃<span style=\"font-weight: bold\"> Layer (type)                    </span>┃<span style=\"font-weight: bold\"> Output Shape           </span>┃<span style=\"font-weight: bold\">       Param # </span>┃\n┡━━━━━━━━━━━━━━━━━━━━━━━━━━━━━━━━━╇━━━━━━━━━━━━━━━━━━━━━━━━╇━━━━━━━━━━━━━━━┩\n│ dense_4 (<span style=\"color: #0087ff; text-decoration-color: #0087ff\">Dense</span>)                 │ (<span style=\"color: #00d7ff; text-decoration-color: #00d7ff\">None</span>, <span style=\"color: #00af00; text-decoration-color: #00af00\">128</span>)            │       <span style=\"color: #00af00; text-decoration-color: #00af00\">210,048</span> │\n├─────────────────────────────────┼────────────────────────┼───────────────┤\n│ dropout (<span style=\"color: #0087ff; text-decoration-color: #0087ff\">Dropout</span>)               │ (<span style=\"color: #00d7ff; text-decoration-color: #00d7ff\">None</span>, <span style=\"color: #00af00; text-decoration-color: #00af00\">128</span>)            │             <span style=\"color: #00af00; text-decoration-color: #00af00\">0</span> │\n├─────────────────────────────────┼────────────────────────┼───────────────┤\n│ dense_5 (<span style=\"color: #0087ff; text-decoration-color: #0087ff\">Dense</span>)                 │ (<span style=\"color: #00d7ff; text-decoration-color: #00d7ff\">None</span>, <span style=\"color: #00af00; text-decoration-color: #00af00\">64</span>)             │         <span style=\"color: #00af00; text-decoration-color: #00af00\">8,256</span> │\n├─────────────────────────────────┼────────────────────────┼───────────────┤\n│ dropout_1 (<span style=\"color: #0087ff; text-decoration-color: #0087ff\">Dropout</span>)             │ (<span style=\"color: #00d7ff; text-decoration-color: #00d7ff\">None</span>, <span style=\"color: #00af00; text-decoration-color: #00af00\">64</span>)             │             <span style=\"color: #00af00; text-decoration-color: #00af00\">0</span> │\n├─────────────────────────────────┼────────────────────────┼───────────────┤\n│ dense_6 (<span style=\"color: #0087ff; text-decoration-color: #0087ff\">Dense</span>)                 │ (<span style=\"color: #00d7ff; text-decoration-color: #00d7ff\">None</span>, <span style=\"color: #00af00; text-decoration-color: #00af00\">32</span>)             │         <span style=\"color: #00af00; text-decoration-color: #00af00\">2,080</span> │\n├─────────────────────────────────┼────────────────────────┼───────────────┤\n│ dropout_2 (<span style=\"color: #0087ff; text-decoration-color: #0087ff\">Dropout</span>)             │ (<span style=\"color: #00d7ff; text-decoration-color: #00d7ff\">None</span>, <span style=\"color: #00af00; text-decoration-color: #00af00\">32</span>)             │             <span style=\"color: #00af00; text-decoration-color: #00af00\">0</span> │\n├─────────────────────────────────┼────────────────────────┼───────────────┤\n│ dense_7 (<span style=\"color: #0087ff; text-decoration-color: #0087ff\">Dense</span>)                 │ (<span style=\"color: #00d7ff; text-decoration-color: #00d7ff\">None</span>, <span style=\"color: #00af00; text-decoration-color: #00af00\">1</span>)              │            <span style=\"color: #00af00; text-decoration-color: #00af00\">33</span> │\n└─────────────────────────────────┴────────────────────────┴───────────────┘\n</pre>\n"
     },
     "metadata": {},
     "output_type": "display_data"
    },
    {
     "data": {
      "text/plain": "\u001B[1m Total params: \u001B[0m\u001B[38;5;34m220,417\u001B[0m (861.00 KB)\n",
      "text/html": "<pre style=\"white-space:pre;overflow-x:auto;line-height:normal;font-family:Menlo,'DejaVu Sans Mono',consolas,'Courier New',monospace\"><span style=\"font-weight: bold\"> Total params: </span><span style=\"color: #00af00; text-decoration-color: #00af00\">220,417</span> (861.00 KB)\n</pre>\n"
     },
     "metadata": {},
     "output_type": "display_data"
    },
    {
     "data": {
      "text/plain": "\u001B[1m Trainable params: \u001B[0m\u001B[38;5;34m220,417\u001B[0m (861.00 KB)\n",
      "text/html": "<pre style=\"white-space:pre;overflow-x:auto;line-height:normal;font-family:Menlo,'DejaVu Sans Mono',consolas,'Courier New',monospace\"><span style=\"font-weight: bold\"> Trainable params: </span><span style=\"color: #00af00; text-decoration-color: #00af00\">220,417</span> (861.00 KB)\n</pre>\n"
     },
     "metadata": {},
     "output_type": "display_data"
    },
    {
     "data": {
      "text/plain": "\u001B[1m Non-trainable params: \u001B[0m\u001B[38;5;34m0\u001B[0m (0.00 B)\n",
      "text/html": "<pre style=\"white-space:pre;overflow-x:auto;line-height:normal;font-family:Menlo,'DejaVu Sans Mono',consolas,'Courier New',monospace\"><span style=\"font-weight: bold\"> Non-trainable params: </span><span style=\"color: #00af00; text-decoration-color: #00af00\">0</span> (0.00 B)\n</pre>\n"
     },
     "metadata": {},
     "output_type": "display_data"
    },
    {
     "name": "stdout",
     "output_type": "stream",
     "text": [
      "Epoch 1/10\n",
      "\u001B[1m345/345\u001B[0m \u001B[32m━━━━━━━━━━━━━━━━━━━━\u001B[0m\u001B[37m\u001B[0m \u001B[1m2s\u001B[0m 2ms/step - accuracy: 0.5338 - loss: 1.7872 - val_accuracy: 0.5502 - val_loss: 0.6953\n",
      "Epoch 2/10\n",
      "\u001B[1m345/345\u001B[0m \u001B[32m━━━━━━━━━━━━━━━━━━━━\u001B[0m\u001B[37m\u001B[0m \u001B[1m1s\u001B[0m 2ms/step - accuracy: 0.5383 - loss: 0.6931 - val_accuracy: 0.5502 - val_loss: 0.6883\n",
      "Epoch 3/10\n",
      "\u001B[1m345/345\u001B[0m \u001B[32m━━━━━━━━━━━━━━━━━━━━\u001B[0m\u001B[37m\u001B[0m \u001B[1m1s\u001B[0m 2ms/step - accuracy: 0.5471 - loss: 0.6887 - val_accuracy: 0.5502 - val_loss: 0.6882\n",
      "Epoch 4/10\n",
      "\u001B[1m345/345\u001B[0m \u001B[32m━━━━━━━━━━━━━━━━━━━━\u001B[0m\u001B[37m\u001B[0m \u001B[1m1s\u001B[0m 2ms/step - accuracy: 0.5424 - loss: 0.6901 - val_accuracy: 0.5502 - val_loss: 0.6881\n",
      "Epoch 5/10\n",
      "\u001B[1m345/345\u001B[0m \u001B[32m━━━━━━━━━━━━━━━━━━━━\u001B[0m\u001B[37m\u001B[0m \u001B[1m1s\u001B[0m 2ms/step - accuracy: 0.5516 - loss: 0.6880 - val_accuracy: 0.5502 - val_loss: 0.6886\n",
      "Epoch 6/10\n",
      "\u001B[1m345/345\u001B[0m \u001B[32m━━━━━━━━━━━━━━━━━━━━\u001B[0m\u001B[37m\u001B[0m \u001B[1m1s\u001B[0m 1ms/step - accuracy: 0.5487 - loss: 0.6889 - val_accuracy: 0.5502 - val_loss: 0.6886\n",
      "Epoch 7/10\n",
      "\u001B[1m345/345\u001B[0m \u001B[32m━━━━━━━━━━━━━━━━━━━━\u001B[0m\u001B[37m\u001B[0m \u001B[1m1s\u001B[0m 1ms/step - accuracy: 0.5486 - loss: 0.6890 - val_accuracy: 0.5502 - val_loss: 0.6883\n",
      "Epoch 8/10\n",
      "\u001B[1m345/345\u001B[0m \u001B[32m━━━━━━━━━━━━━━━━━━━━\u001B[0m\u001B[37m\u001B[0m \u001B[1m1s\u001B[0m 2ms/step - accuracy: 0.5431 - loss: 0.6894 - val_accuracy: 0.5502 - val_loss: 0.6885\n",
      "Epoch 9/10\n",
      "\u001B[1m345/345\u001B[0m \u001B[32m━━━━━━━━━━━━━━━━━━━━\u001B[0m\u001B[37m\u001B[0m \u001B[1m1s\u001B[0m 2ms/step - accuracy: 0.5387 - loss: 0.6902 - val_accuracy: 0.5502 - val_loss: 0.6882\n",
      "Epoch 10/10\n",
      "\u001B[1m345/345\u001B[0m \u001B[32m━━━━━━━━━━━━━━━━━━━━\u001B[0m\u001B[37m\u001B[0m \u001B[1m1s\u001B[0m 1ms/step - accuracy: 0.5386 - loss: 0.6907 - val_accuracy: 0.5502 - val_loss: 0.6883\n"
     ]
    }
   ],
   "source": [
    "from tensorflow.keras.models import Sequential\n",
    "from tensorflow.keras.layers import Dense, Dropout, Input\n",
    "from tensorflow.keras.optimizers import Adam\n",
    "from tensorflow.keras.regularizers import l2\n",
    "\n",
    "# Crear el modelo con regularización y dropout\n",
    "model = Sequential([\n",
    "    Input(shape=(1640,)),\n",
    "    Dense(128, activation='relu', kernel_regularizer=l2(0.01)),\n",
    "    Dropout(0.5),\n",
    "    Dense(64, activation='relu', kernel_regularizer=l2(0.01)),\n",
    "    Dropout(0.5),\n",
    "    Dense(32, activation='relu', kernel_regularizer=l2(0.01)),\n",
    "    Dropout(0.5),\n",
    "    Dense(1, activation='sigmoid')\n",
    "])\n",
    "\n",
    "# Compilar el modelo\n",
    "model.compile(optimizer=Adam(learning_rate=0.001),\n",
    "              loss='binary_crossentropy',\n",
    "              metrics=['accuracy'])\n",
    "\n",
    "# Resumen del modelo\n",
    "model.summary()\n",
    "\n",
    "# Entrenar el modelo\n",
    "history = model.fit(partidas_features, partidas_labels, epochs=10, batch_size=32, validation_split=0.2)\n",
    "\n"
   ],
   "metadata": {
    "collapsed": false,
    "ExecuteTime": {
     "end_time": "2024-04-18T10:31:03.236715Z",
     "start_time": "2024-04-18T10:30:56.075416Z"
    }
   },
   "id": "9db8ce46ab790f5e",
   "execution_count": 7
  },
  {
   "cell_type": "code",
   "outputs": [
    {
     "name": "stdout",
     "output_type": "stream",
     "text": [
      "Collecting tensorflow\n",
      "  Downloading tensorflow-2.16.1-cp311-cp311-win_amd64.whl.metadata (3.5 kB)\n",
      "Collecting tensorflow-intel==2.16.1 (from tensorflow)\n",
      "  Downloading tensorflow_intel-2.16.1-cp311-cp311-win_amd64.whl.metadata (5.0 kB)\n",
      "Collecting absl-py>=1.0.0 (from tensorflow-intel==2.16.1->tensorflow)\n",
      "  Downloading absl_py-2.1.0-py3-none-any.whl.metadata (2.3 kB)\n",
      "Collecting astunparse>=1.6.0 (from tensorflow-intel==2.16.1->tensorflow)\n",
      "  Downloading astunparse-1.6.3-py2.py3-none-any.whl.metadata (4.4 kB)\n",
      "Collecting flatbuffers>=23.5.26 (from tensorflow-intel==2.16.1->tensorflow)\n",
      "  Downloading flatbuffers-24.3.25-py2.py3-none-any.whl.metadata (850 bytes)\n",
      "Collecting gast!=0.5.0,!=0.5.1,!=0.5.2,>=0.2.1 (from tensorflow-intel==2.16.1->tensorflow)\n",
      "  Downloading gast-0.5.4-py3-none-any.whl.metadata (1.3 kB)\n",
      "Collecting google-pasta>=0.1.1 (from tensorflow-intel==2.16.1->tensorflow)\n",
      "  Downloading google_pasta-0.2.0-py3-none-any.whl.metadata (814 bytes)\n",
      "Collecting h5py>=3.10.0 (from tensorflow-intel==2.16.1->tensorflow)\n",
      "  Downloading h5py-3.11.0-cp311-cp311-win_amd64.whl.metadata (2.5 kB)\n",
      "Collecting libclang>=13.0.0 (from tensorflow-intel==2.16.1->tensorflow)\n",
      "  Downloading libclang-18.1.1-py2.py3-none-win_amd64.whl.metadata (5.3 kB)\n",
      "Collecting ml-dtypes~=0.3.1 (from tensorflow-intel==2.16.1->tensorflow)\n",
      "  Downloading ml_dtypes-0.3.2-cp311-cp311-win_amd64.whl.metadata (20 kB)\n",
      "Collecting opt-einsum>=2.3.2 (from tensorflow-intel==2.16.1->tensorflow)\n",
      "  Downloading opt_einsum-3.3.0-py3-none-any.whl.metadata (6.5 kB)\n",
      "Requirement already satisfied: packaging in c:\\users\\usuario\\anaconda3\\lib\\site-packages (from tensorflow-intel==2.16.1->tensorflow) (23.1)\n",
      "Requirement already satisfied: protobuf!=4.21.0,!=4.21.1,!=4.21.2,!=4.21.3,!=4.21.4,!=4.21.5,<5.0.0dev,>=3.20.3 in c:\\users\\usuario\\anaconda3\\lib\\site-packages (from tensorflow-intel==2.16.1->tensorflow) (3.20.3)\n",
      "Requirement already satisfied: requests<3,>=2.21.0 in c:\\users\\usuario\\anaconda3\\lib\\site-packages (from tensorflow-intel==2.16.1->tensorflow) (2.31.0)\n",
      "Requirement already satisfied: setuptools in c:\\users\\usuario\\anaconda3\\lib\\site-packages (from tensorflow-intel==2.16.1->tensorflow) (68.2.2)\n",
      "Requirement already satisfied: six>=1.12.0 in c:\\users\\usuario\\anaconda3\\lib\\site-packages (from tensorflow-intel==2.16.1->tensorflow) (1.16.0)\n",
      "Collecting termcolor>=1.1.0 (from tensorflow-intel==2.16.1->tensorflow)\n",
      "  Downloading termcolor-2.4.0-py3-none-any.whl.metadata (6.1 kB)\n",
      "Requirement already satisfied: typing-extensions>=3.6.6 in c:\\users\\usuario\\anaconda3\\lib\\site-packages (from tensorflow-intel==2.16.1->tensorflow) (4.9.0)\n",
      "Requirement already satisfied: wrapt>=1.11.0 in c:\\users\\usuario\\anaconda3\\lib\\site-packages (from tensorflow-intel==2.16.1->tensorflow) (1.14.1)\n",
      "Collecting grpcio<2.0,>=1.24.3 (from tensorflow-intel==2.16.1->tensorflow)\n",
      "  Downloading grpcio-1.62.1-cp311-cp311-win_amd64.whl.metadata (4.2 kB)\n",
      "Collecting tensorboard<2.17,>=2.16 (from tensorflow-intel==2.16.1->tensorflow)\n",
      "  Downloading tensorboard-2.16.2-py3-none-any.whl.metadata (1.6 kB)\n",
      "Collecting keras>=3.0.0 (from tensorflow-intel==2.16.1->tensorflow)\n",
      "  Downloading keras-3.2.1-py3-none-any.whl.metadata (5.6 kB)\n",
      "Collecting tensorflow-io-gcs-filesystem>=0.23.1 (from tensorflow-intel==2.16.1->tensorflow)\n",
      "  Downloading tensorflow_io_gcs_filesystem-0.31.0-cp311-cp311-win_amd64.whl.metadata (14 kB)\n",
      "Requirement already satisfied: numpy<2.0.0,>=1.23.5 in c:\\users\\usuario\\anaconda3\\lib\\site-packages (from tensorflow-intel==2.16.1->tensorflow) (1.26.4)\n",
      "Requirement already satisfied: wheel<1.0,>=0.23.0 in c:\\users\\usuario\\anaconda3\\lib\\site-packages (from astunparse>=1.6.0->tensorflow-intel==2.16.1->tensorflow) (0.41.2)\n",
      "Requirement already satisfied: rich in c:\\users\\usuario\\anaconda3\\lib\\site-packages (from keras>=3.0.0->tensorflow-intel==2.16.1->tensorflow) (13.3.5)\n",
      "Collecting namex (from keras>=3.0.0->tensorflow-intel==2.16.1->tensorflow)\n",
      "  Downloading namex-0.0.8-py3-none-any.whl.metadata (246 bytes)\n",
      "Collecting optree (from keras>=3.0.0->tensorflow-intel==2.16.1->tensorflow)\n",
      "  Downloading optree-0.11.0-cp311-cp311-win_amd64.whl.metadata (46 kB)\n",
      "     ---------------------------------------- 0.0/46.2 kB ? eta -:--:--\n",
      "     ---------------------------------------- 46.2/46.2 kB 2.2 MB/s eta 0:00:00\n",
      "Requirement already satisfied: charset-normalizer<4,>=2 in c:\\users\\usuario\\anaconda3\\lib\\site-packages (from requests<3,>=2.21.0->tensorflow-intel==2.16.1->tensorflow) (2.0.4)\n",
      "Requirement already satisfied: idna<4,>=2.5 in c:\\users\\usuario\\anaconda3\\lib\\site-packages (from requests<3,>=2.21.0->tensorflow-intel==2.16.1->tensorflow) (3.4)\n",
      "Requirement already satisfied: urllib3<3,>=1.21.1 in c:\\users\\usuario\\anaconda3\\lib\\site-packages (from requests<3,>=2.21.0->tensorflow-intel==2.16.1->tensorflow) (2.0.7)\n",
      "Requirement already satisfied: certifi>=2017.4.17 in c:\\users\\usuario\\anaconda3\\lib\\site-packages (from requests<3,>=2.21.0->tensorflow-intel==2.16.1->tensorflow) (2024.2.2)\n",
      "Requirement already satisfied: markdown>=2.6.8 in c:\\users\\usuario\\anaconda3\\lib\\site-packages (from tensorboard<2.17,>=2.16->tensorflow-intel==2.16.1->tensorflow) (3.4.1)\n",
      "Collecting tensorboard-data-server<0.8.0,>=0.7.0 (from tensorboard<2.17,>=2.16->tensorflow-intel==2.16.1->tensorflow)\n",
      "  Downloading tensorboard_data_server-0.7.2-py3-none-any.whl.metadata (1.1 kB)\n",
      "Requirement already satisfied: werkzeug>=1.0.1 in c:\\users\\usuario\\anaconda3\\lib\\site-packages (from tensorboard<2.17,>=2.16->tensorflow-intel==2.16.1->tensorflow) (2.2.3)\n",
      "Requirement already satisfied: MarkupSafe>=2.1.1 in c:\\users\\usuario\\anaconda3\\lib\\site-packages (from werkzeug>=1.0.1->tensorboard<2.17,>=2.16->tensorflow-intel==2.16.1->tensorflow) (2.1.3)\n",
      "Requirement already satisfied: markdown-it-py<3.0.0,>=2.2.0 in c:\\users\\usuario\\anaconda3\\lib\\site-packages (from rich->keras>=3.0.0->tensorflow-intel==2.16.1->tensorflow) (2.2.0)\n",
      "Requirement already satisfied: pygments<3.0.0,>=2.13.0 in c:\\users\\usuario\\anaconda3\\lib\\site-packages (from rich->keras>=3.0.0->tensorflow-intel==2.16.1->tensorflow) (2.15.1)\n",
      "Requirement already satisfied: mdurl~=0.1 in c:\\users\\usuario\\anaconda3\\lib\\site-packages (from markdown-it-py<3.0.0,>=2.2.0->rich->keras>=3.0.0->tensorflow-intel==2.16.1->tensorflow) (0.1.0)\n",
      "Downloading tensorflow-2.16.1-cp311-cp311-win_amd64.whl (2.1 kB)\n",
      "Downloading tensorflow_intel-2.16.1-cp311-cp311-win_amd64.whl (377.0 MB)\n",
      "   ---------------------------------------- 0.0/377.0 MB ? eta -:--:--\n",
      "   ---------------------------------------- 0.3/377.0 MB 7.1 MB/s eta 0:00:53\n",
      "   ---------------------------------------- 1.3/377.0 MB 13.9 MB/s eta 0:00:28\n",
      "    --------------------------------------- 4.9/377.0 MB 34.7 MB/s eta 0:00:11\n",
      "    --------------------------------------- 7.2/377.0 MB 46.1 MB/s eta 0:00:09\n",
      "    --------------------------------------- 7.9/377.0 MB 36.3 MB/s eta 0:00:11\n",
      "   - -------------------------------------- 9.6/377.0 MB 38.3 MB/s eta 0:00:10\n",
      "   - -------------------------------------- 12.4/377.0 MB 46.7 MB/s eta 0:00:08\n",
      "   - -------------------------------------- 14.3/377.0 MB 40.9 MB/s eta 0:00:09\n",
      "   - -------------------------------------- 15.9/377.0 MB 36.4 MB/s eta 0:00:10\n",
      "   -- ------------------------------------- 19.8/377.0 MB 50.4 MB/s eta 0:00:08\n",
      "   -- ------------------------------------- 19.8/377.0 MB 50.4 MB/s eta 0:00:08\n",
      "   -- ------------------------------------- 19.8/377.0 MB 38.6 MB/s eta 0:00:10\n",
      "   -- ------------------------------------- 19.8/377.0 MB 29.8 MB/s eta 0:00:12\n",
      "   -- ------------------------------------- 20.0/377.0 MB 31.1 MB/s eta 0:00:12\n",
      "   -- ------------------------------------- 20.1/377.0 MB 25.1 MB/s eta 0:00:15\n",
      "   -- ------------------------------------- 20.6/377.0 MB 23.4 MB/s eta 0:00:16\n",
      "   -- ------------------------------------- 21.7/377.0 MB 21.1 MB/s eta 0:00:17\n",
      "   -- ------------------------------------- 23.0/377.0 MB 21.1 MB/s eta 0:00:17\n",
      "   -- ------------------------------------- 24.0/377.0 MB 19.8 MB/s eta 0:00:18\n",
      "   -- ------------------------------------- 25.9/377.0 MB 19.3 MB/s eta 0:00:19\n",
      "   --- ------------------------------------ 31.0/377.0 MB 46.9 MB/s eta 0:00:08\n",
      "   --- ----------------------------------- 35.9/377.0 MB 108.8 MB/s eta 0:00:04\n",
      "   ---- ---------------------------------- 41.2/377.0 MB 108.8 MB/s eta 0:00:04\n",
      "   ---- ---------------------------------- 46.5/377.0 MB 131.2 MB/s eta 0:00:03\n",
      "   ----- --------------------------------- 51.7/377.0 MB 108.8 MB/s eta 0:00:03\n",
      "   ----- --------------------------------- 57.0/377.0 MB 108.8 MB/s eta 0:00:03\n",
      "   ------ -------------------------------- 62.4/377.0 MB 108.8 MB/s eta 0:00:03\n",
      "   ------- ------------------------------- 67.7/377.0 MB 110.0 MB/s eta 0:00:03\n",
      "   ------- ------------------------------- 73.0/377.0 MB 110.0 MB/s eta 0:00:03\n",
      "   -------- ------------------------------ 77.9/377.0 MB 108.8 MB/s eta 0:00:03\n",
      "   -------- ------------------------------ 83.4/377.0 MB 108.8 MB/s eta 0:00:03\n",
      "   --------- ----------------------------- 88.8/377.0 MB 131.2 MB/s eta 0:00:03\n",
      "   --------- ----------------------------- 94.2/377.0 MB 131.2 MB/s eta 0:00:03\n",
      "   ---------- ---------------------------- 99.5/377.0 MB 131.2 MB/s eta 0:00:03\n",
      "   ---------- --------------------------- 104.9/377.0 MB 108.8 MB/s eta 0:00:03\n",
      "   ----------- -------------------------- 110.0/377.0 MB 110.0 MB/s eta 0:00:03\n",
      "   ----------- -------------------------- 115.3/377.0 MB 110.0 MB/s eta 0:00:03\n",
      "   ------------ ------------------------- 120.7/377.0 MB 108.8 MB/s eta 0:00:03\n",
      "   ------------ ------------------------- 125.8/377.0 MB 108.8 MB/s eta 0:00:03\n",
      "   ------------- ------------------------ 131.4/377.0 MB 108.8 MB/s eta 0:00:03\n",
      "   ------------- ------------------------ 136.7/377.0 MB 108.8 MB/s eta 0:00:03\n",
      "   -------------- ----------------------- 141.8/377.0 MB 108.8 MB/s eta 0:00:03\n",
      "   -------------- ----------------------- 147.3/377.0 MB 108.8 MB/s eta 0:00:03\n",
      "   --------------- ---------------------- 152.1/377.0 MB 110.0 MB/s eta 0:00:03\n",
      "   --------------- ---------------------- 157.5/377.0 MB 110.0 MB/s eta 0:00:02\n",
      "   ---------------- --------------------- 162.9/377.0 MB 108.8 MB/s eta 0:00:02\n",
      "   ---------------- --------------------- 168.4/377.0 MB 108.8 MB/s eta 0:00:02\n",
      "   ----------------- -------------------- 173.9/377.0 MB 108.8 MB/s eta 0:00:02\n",
      "   ------------------ ------------------- 179.3/377.0 MB 108.8 MB/s eta 0:00:02\n",
      "   ------------------ ------------------- 184.7/377.0 MB 108.8 MB/s eta 0:00:02\n",
      "   ------------------- ------------------ 190.3/377.0 MB 108.8 MB/s eta 0:00:02\n",
      "   ------------------- ------------------- 191.1/377.0 MB 93.0 MB/s eta 0:00:02\n",
      "   ------------------- ------------------- 191.2/377.0 MB 65.2 MB/s eta 0:00:03\n",
      "   ------------------- ------------------- 191.3/377.0 MB 50.1 MB/s eta 0:00:04\n",
      "   ------------------- ------------------- 191.5/377.0 MB 38.5 MB/s eta 0:00:05\n",
      "   ------------------- ------------------- 191.7/377.0 MB 32.7 MB/s eta 0:00:06\n",
      "   -------------------- ------------------ 195.9/377.0 MB 31.2 MB/s eta 0:00:06\n",
      "   -------------------- ------------------ 201.4/377.0 MB 43.5 MB/s eta 0:00:05\n",
      "   -------------------- ----------------- 207.0/377.0 MB 129.5 MB/s eta 0:00:02\n",
      "   --------------------- ---------------- 212.3/377.0 MB 110.0 MB/s eta 0:00:02\n",
      "   --------------------- ---------------- 217.9/377.0 MB 110.0 MB/s eta 0:00:02\n",
      "   ---------------------- --------------- 223.3/377.0 MB 108.8 MB/s eta 0:00:02\n",
      "   ----------------------- -------------- 228.8/377.0 MB 108.8 MB/s eta 0:00:02\n",
      "   ----------------------- -------------- 234.4/377.0 MB 108.8 MB/s eta 0:00:02\n",
      "   ------------------------ ------------- 240.0/377.0 MB 108.8 MB/s eta 0:00:02\n",
      "   ------------------------ ------------- 245.4/377.0 MB 108.8 MB/s eta 0:00:02\n",
      "   ------------------------- ------------ 250.9/377.0 MB 108.8 MB/s eta 0:00:02\n",
      "   ------------------------- ------------ 256.5/377.0 MB 110.0 MB/s eta 0:00:02\n",
      "   -------------------------- ----------- 262.0/377.0 MB 110.0 MB/s eta 0:00:02\n",
      "   -------------------------- ----------- 267.6/377.0 MB 108.8 MB/s eta 0:00:02\n",
      "   --------------------------- ---------- 272.8/377.0 MB 108.8 MB/s eta 0:00:01\n",
      "   ---------------------------- --------- 278.4/377.0 MB 108.8 MB/s eta 0:00:01\n",
      "   ---------------------------- --------- 283.8/377.0 MB 108.8 MB/s eta 0:00:01\n",
      "   ----------------------------- -------- 289.4/377.0 MB 108.8 MB/s eta 0:00:01\n",
      "   ----------------------------- -------- 294.8/377.0 MB 108.8 MB/s eta 0:00:01\n",
      "   ------------------------------ ------- 300.4/377.0 MB 110.0 MB/s eta 0:00:01\n",
      "   ------------------------------ ------- 306.1/377.0 MB 110.0 MB/s eta 0:00:01\n",
      "   ------------------------------- ------ 311.6/377.0 MB 108.8 MB/s eta 0:00:01\n",
      "   ------------------------------- ------ 317.0/377.0 MB 108.8 MB/s eta 0:00:01\n",
      "   -------------------------------- ----- 322.6/377.0 MB 108.8 MB/s eta 0:00:01\n",
      "   --------------------------------- ---- 328.1/377.0 MB 108.8 MB/s eta 0:00:01\n",
      "   --------------------------------- ---- 333.8/377.0 MB 108.8 MB/s eta 0:00:01\n",
      "   ---------------------------------- --- 339.3/377.0 MB 108.8 MB/s eta 0:00:01\n",
      "   ---------------------------------- --- 344.7/377.0 MB 110.0 MB/s eta 0:00:01\n",
      "   ----------------------------------- -- 350.4/377.0 MB 110.0 MB/s eta 0:00:01\n",
      "   ----------------------------------- -- 356.0/377.0 MB 108.8 MB/s eta 0:00:01\n",
      "   ------------------------------------ - 361.5/377.0 MB 108.8 MB/s eta 0:00:01\n",
      "   ------------------------------------ - 366.7/377.0 MB 108.8 MB/s eta 0:00:01\n",
      "   -------------------------------------  367.3/377.0 MB 108.8 MB/s eta 0:00:01\n",
      "   --------------------------------------  373.0/377.0 MB 81.8 MB/s eta 0:00:01\n",
      "   --------------------------------------  377.0/377.0 MB 81.8 MB/s eta 0:00:01\n",
      "   --------------------------------------  377.0/377.0 MB 81.8 MB/s eta 0:00:01\n",
      "   --------------------------------------  377.0/377.0 MB 81.8 MB/s eta 0:00:01\n",
      "   --------------------------------------  377.0/377.0 MB 81.8 MB/s eta 0:00:01\n",
      "   --------------------------------------  377.0/377.0 MB 81.8 MB/s eta 0:00:01\n",
      "   --------------------------------------  377.0/377.0 MB 81.8 MB/s eta 0:00:01\n",
      "   --------------------------------------  377.0/377.0 MB 81.8 MB/s eta 0:00:01\n",
      "   --------------------------------------  377.0/377.0 MB 81.8 MB/s eta 0:00:01\n",
      "   --------------------------------------- 377.0/377.0 MB 20.4 MB/s eta 0:00:00\n",
      "Downloading absl_py-2.1.0-py3-none-any.whl (133 kB)\n",
      "   ---------------------------------------- 0.0/133.7 kB ? eta -:--:--\n",
      "   ---------------------------------------- 133.7/133.7 kB ? eta 0:00:00\n",
      "Downloading astunparse-1.6.3-py2.py3-none-any.whl (12 kB)\n",
      "Downloading flatbuffers-24.3.25-py2.py3-none-any.whl (26 kB)\n",
      "Downloading gast-0.5.4-py3-none-any.whl (19 kB)\n",
      "Downloading google_pasta-0.2.0-py3-none-any.whl (57 kB)\n",
      "   ---------------------------------------- 0.0/57.5 kB ? eta -:--:--\n",
      "   ---------------------------------------- 57.5/57.5 kB ? eta 0:00:00\n",
      "Downloading grpcio-1.62.1-cp311-cp311-win_amd64.whl (3.8 MB)\n",
      "   ---------------------------------------- 0.0/3.8 MB ? eta -:--:--\n",
      "   ------------------------------- -------- 2.9/3.8 MB 62.3 MB/s eta 0:00:01\n",
      "   ---------------------------------------- 3.8/3.8 MB 60.0 MB/s eta 0:00:00\n",
      "Downloading h5py-3.11.0-cp311-cp311-win_amd64.whl (3.0 MB)\n",
      "   ---------------------------------------- 0.0/3.0 MB ? eta -:--:--\n",
      "   -- ------------------------------------- 0.2/3.0 MB 4.1 MB/s eta 0:00:01\n",
      "   -------- ------------------------------- 0.6/3.0 MB 6.8 MB/s eta 0:00:01\n",
      "   ---------------------------------------  3.0/3.0 MB 21.0 MB/s eta 0:00:01\n",
      "   ---------------------------------------- 3.0/3.0 MB 21.1 MB/s eta 0:00:00\n",
      "Downloading keras-3.2.1-py3-none-any.whl (1.1 MB)\n",
      "   ---------------------------------------- 0.0/1.1 MB ? eta -:--:--\n",
      "   ---------------------------------------- 1.1/1.1 MB 66.9 MB/s eta 0:00:00\n",
      "Downloading libclang-18.1.1-py2.py3-none-win_amd64.whl (26.4 MB)\n",
      "   ---------------------------------------- 0.0/26.4 MB ? eta -:--:--\n",
      "   ---- ----------------------------------- 3.1/26.4 MB 65.1 MB/s eta 0:00:01\n",
      "   --------- ------------------------------ 5.9/26.4 MB 63.2 MB/s eta 0:00:01\n",
      "   ------------- -------------------------- 8.9/26.4 MB 63.0 MB/s eta 0:00:01\n",
      "   ----------------- ---------------------- 11.8/26.4 MB 59.8 MB/s eta 0:00:01\n",
      "   ---------------------- ----------------- 14.7/26.4 MB 59.5 MB/s eta 0:00:01\n",
      "   -------------------------- ------------- 17.7/26.4 MB 59.5 MB/s eta 0:00:01\n",
      "   ------------------------------- -------- 20.8/26.4 MB 65.6 MB/s eta 0:00:01\n",
      "   ----------------------------------- ---- 23.7/26.4 MB 65.6 MB/s eta 0:00:01\n",
      "   ---------------------------------------  26.4/26.4 MB 65.6 MB/s eta 0:00:01\n",
      "   ---------------------------------------  26.4/26.4 MB 65.6 MB/s eta 0:00:01\n",
      "   ---------------------------------------- 26.4/26.4 MB 46.7 MB/s eta 0:00:00\n",
      "Downloading ml_dtypes-0.3.2-cp311-cp311-win_amd64.whl (127 kB)\n",
      "   ---------------------------------------- 0.0/127.7 kB ? eta -:--:--\n",
      "   ---------------------------------------- 127.7/127.7 kB ? eta 0:00:00\n",
      "Downloading opt_einsum-3.3.0-py3-none-any.whl (65 kB)\n",
      "   ---------------------------------------- 0.0/65.5 kB ? eta -:--:--\n",
      "   ---------------------------------------- 65.5/65.5 kB ? eta 0:00:00\n",
      "Downloading tensorboard-2.16.2-py3-none-any.whl (5.5 MB)\n",
      "   ---------------------------------------- 0.0/5.5 MB ? eta -:--:--\n",
      "   -------------------- ------------------- 2.8/5.5 MB 87.0 MB/s eta 0:00:01\n",
      "   ---------------------------------------  5.5/5.5 MB 69.3 MB/s eta 0:00:01\n",
      "   ---------------------------------------- 5.5/5.5 MB 58.3 MB/s eta 0:00:00\n",
      "Downloading tensorflow_io_gcs_filesystem-0.31.0-cp311-cp311-win_amd64.whl (1.5 MB)\n",
      "   ---------------------------------------- 0.0/1.5 MB ? eta -:--:--\n",
      "   ---------------------------------------- 1.5/1.5 MB 46.1 MB/s eta 0:00:00\n",
      "Downloading termcolor-2.4.0-py3-none-any.whl (7.7 kB)\n",
      "Downloading tensorboard_data_server-0.7.2-py3-none-any.whl (2.4 kB)\n",
      "Downloading namex-0.0.8-py3-none-any.whl (5.8 kB)\n",
      "Downloading optree-0.11.0-cp311-cp311-win_amd64.whl (245 kB)\n",
      "   ---------------------------------------- 0.0/245.0 kB ? eta -:--:--\n",
      "   ---------------------------------------- 245.0/245.0 kB ? eta 0:00:00\n",
      "Installing collected packages: namex, libclang, flatbuffers, termcolor, tensorflow-io-gcs-filesystem, tensorboard-data-server, optree, opt-einsum, ml-dtypes, h5py, grpcio, google-pasta, gast, astunparse, absl-py, tensorboard, keras, tensorflow-intel, tensorflow\n",
      "  Attempting uninstall: h5py\n",
      "    Found existing installation: h5py 3.9.0\n",
      "    Uninstalling h5py-3.9.0:\n",
      "      Successfully uninstalled h5py-3.9.0\n",
      "Successfully installed absl-py-2.1.0 astunparse-1.6.3 flatbuffers-24.3.25 gast-0.5.4 google-pasta-0.2.0 grpcio-1.62.1 h5py-3.11.0 keras-3.2.1 libclang-18.1.1 ml-dtypes-0.3.2 namex-0.0.8 opt-einsum-3.3.0 optree-0.11.0 tensorboard-2.16.2 tensorboard-data-server-0.7.2 tensorflow-2.16.1 tensorflow-intel-2.16.1 tensorflow-io-gcs-filesystem-0.31.0 termcolor-2.4.0\n",
      "Note: you may need to restart the kernel to use updated packages.\n"
     ]
    }
   ],
   "source": [],
   "metadata": {
    "collapsed": false,
    "ExecuteTime": {
     "end_time": "2024-04-18T10:15:01.649292Z",
     "start_time": "2024-04-18T10:14:29.793243Z"
    }
   },
   "id": "f0c03077df034c45",
   "execution_count": 5
  },
  {
   "cell_type": "code",
   "outputs": [],
   "source": [],
   "metadata": {
    "collapsed": false
   },
   "id": "dae5715688b3dc69"
  }
 ],
 "metadata": {
  "kernelspec": {
   "display_name": "Python 3",
   "language": "python",
   "name": "python3"
  },
  "language_info": {
   "codemirror_mode": {
    "name": "ipython",
    "version": 2
   },
   "file_extension": ".py",
   "mimetype": "text/x-python",
   "name": "python",
   "nbconvert_exporter": "python",
   "pygments_lexer": "ipython2",
   "version": "2.7.6"
  }
 },
 "nbformat": 4,
 "nbformat_minor": 5
}
