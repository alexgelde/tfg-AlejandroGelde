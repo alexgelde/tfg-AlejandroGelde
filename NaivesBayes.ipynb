{
 "cells": [
  {
   "cell_type": "code",
   "execution_count": 2,
   "id": "initial_id",
   "metadata": {
    "collapsed": true,
    "ExecuteTime": {
     "end_time": "2024-04-16T15:51:54.803014Z",
     "start_time": "2024-04-16T15:51:54.148348Z"
    }
   },
   "outputs": [
    {
     "name": "stdout",
     "output_type": "stream",
     "text": [
      "Precisión del modelo Naive Bayes: 0.5368153790351832\n",
      "Precisión del modelo Naive Bayes Multinomial: 0.5369967355821545\n",
      "Precisión del modelo Naive Bayes Bernoulli: 0.5369967355821545\n"
     ]
    }
   ],
   "source": [
    "from sklearn.model_selection import train_test_split\n",
    "from sklearn.naive_bayes import GaussianNB\n",
    "from sklearn.metrics import accuracy_score\n",
    "import numpy as np\n",
    "import json\n",
    "from sklearn.naive_bayes import BernoulliNB\n",
    "from sklearn.naive_bayes import MultinomialNB\n",
    "\n",
    "\n",
    "def calcular_media_equipo(equipo):\n",
    "    media = {}\n",
    "    for campeon in equipo:\n",
    "        for key, value in campeon.items():\n",
    "            if key != \"ID\" and key != \"Key\" and key != \"Name\":\n",
    "                if key not in media:\n",
    "                    media[key] = value\n",
    "                else:\n",
    "                    media[key] += value\n",
    "    num_campeones = len(equipo)\n",
    "    for key in media:\n",
    "        media[key] /= num_campeones\n",
    "    return list(media.values())\n",
    "\n",
    "def cargar_datos_desde_json(ruta_archivo):\n",
    "    X = []\n",
    "    y = []\n",
    "    with open(ruta_archivo, 'r') as file:\n",
    "        data = json.load(file)\n",
    "    for partida in data:\n",
    "        resultado = partida[\"result\"]\n",
    "        for equipo in [partida[\"blue_team\"], partida[\"red_team\"]]:\n",
    "            X.append(calcular_media_equipo(equipo))\n",
    "            y.append(resultado)\n",
    "    return np.array(X), np.array(y)\n",
    "\n",
    "# Cargar datos desde el archivo JSON\n",
    "X, y = cargar_datos_desde_json(\"partidasConCaracteristicas.json\")\n",
    "\n",
    "# Dividir los datos en conjuntos de entrenamiento y prueba\n",
    "X_train, X_test, y_train, y_test = train_test_split(X, y, test_size=0.2, random_state=42)\n",
    "\n",
    "# Inicializar el clasificador Naive Bayes\n",
    "naive_bayes = GaussianNB()\n",
    "\n",
    "# Entrenar el modelo\n",
    "naive_bayes.fit(X_train, y_train)\n",
    "\n",
    "# Predecir en el conjunto de prueba\n",
    "y_pred = naive_bayes.predict(X_test)\n",
    "\n",
    "# Calcular la precisión del modelo\n",
    "precision = accuracy_score(y_test, y_pred)\n",
    "print(\"Precisión del modelo Naive Bayes:\", precision)\n",
    "\n",
    "\n",
    "\n",
    "# Inicializar el clasificador Naive Bayes Multinomial\n",
    "naive_bayes_multinomial = MultinomialNB()\n",
    "\n",
    "# Entrenar el modelo\n",
    "naive_bayes_multinomial.fit(X_train, y_train)\n",
    "\n",
    "# Predecir en el conjunto de prueba\n",
    "y_pred_multinomial = naive_bayes_multinomial.predict(X_test)\n",
    "\n",
    "# Calcular la precisión del modelo\n",
    "precision_multinomial = accuracy_score(y_test, y_pred_multinomial)\n",
    "print(\"Precisión del modelo Naive Bayes Multinomial:\", precision_multinomial)\n",
    "\n",
    "\n",
    "\n",
    "# Inicializar el clasificador Naive Bayes Bernoulli\n",
    "naive_bayes_bernoulli = BernoulliNB()\n",
    "\n",
    "# Entrenar el modelo\n",
    "naive_bayes_bernoulli.fit(X_train, y_train)\n",
    "\n",
    "# Predecir en el conjunto de prueba\n",
    "y_pred_bernoulli = naive_bayes_bernoulli.predict(X_test)\n",
    "\n",
    "# Calcular la precisión del modelo\n",
    "precision_bernoulli = accuracy_score(y_test, y_pred_bernoulli)\n",
    "print(\"Precisión del modelo Naive Bayes Bernoulli:\", precision_bernoulli)\n",
    "\n",
    "\n"
   ]
  },
  {
   "cell_type": "code",
   "outputs": [
    {
     "data": {
      "text/plain": "((13783, 70), (13783,))"
     },
     "execution_count": 5,
     "metadata": {},
     "output_type": "execute_result"
    }
   ],
   "source": [
    "import json\n",
    "\n",
    "# Cargar y visualizar el contenido de \"caracteristicas_campeones.json\"\n",
    "with open(\"caracteristicas_campeones.json\", \"r\") as file:\n",
    "    champion_features = json.load(file)\n",
    "\n",
    "# Cargar y visualizar el contenido de \"arraysPartidasResultado.json\"\n",
    "with open(\"arraysPartidasResultado.json\", \"r\") as file:\n",
    "    match_results = json.load(file)\n",
    "\n",
    "    keys = ['Difficulty', 'HP', 'Armor', 'HPRegen', 'AttackDamage', 'AttackSpeed']\n",
    "neutral_stats = {key: np.mean([champ[key] for champ in champion_features]) for key in keys}\n",
    "neutral_stats['Name'] = 'Unknown'\n",
    "neutral_stats['Key'] = -1\n",
    "\n",
    "# Función de transformación actualizada para manejar campeones no encontrados\n",
    "def transform_match_updated(match, champion_dict, neutral_stats):\n",
    "    result = match[0]\n",
    "    # Utilizar estadísticas neutrales si el campeón no está en el diccionario\n",
    "    blue_team = [champion_dict.get(champ_id, neutral_stats) for champ_id in match[1:6]]\n",
    "    red_team = [champion_dict.get(champ_id, neutral_stats) for champ_id in match[6:11]]\n",
    "    return result, blue_team, red_team\n",
    "\n",
    "\n",
    "all_matches_transformed = [transform_match_updated(match, champion_dict, neutral_stats) for match in match_results]\n",
    "\n",
    "# Convertir las características de cada campeón en cada equipo en un solo vector para cada partida\n",
    "def flatten_match_data(match_data):\n",
    "    result, blue_team, red_team = match_data\n",
    "    # Aplanar las características de los campeones en un solo vector\n",
    "    blue_features = [value for champ in blue_team for key, value in champ.items() if isinstance(value, (int, float))]\n",
    "    red_features = [value for champ in red_team for key, value in champ.items() if isinstance(value, (int, float))]\n",
    "    features = blue_features + red_features\n",
    "    return result, features\n",
    "\n",
    "# Aplanar los datos para todos los partidos\n",
    "flattened_data = [flatten_match_data(match) for match in all_matches_transformed]\n",
    "\n",
    "# Extraer las características y los resultados\n",
    "X = np.array([features for _, features in flattened_data])\n",
    "y = np.array([result for result, _ in flattened_data])\n",
    "\n",
    "# Normalizar las características\n",
    "from sklearn.preprocessing import StandardScaler\n",
    "scaler = StandardScaler()\n",
    "X_scaled = scaler.fit_transform(X)\n",
    "\n",
    "# Muestra del resultado final procesado y normalizado\n",
    "X_scaled.shape, y.shape\n"
   ],
   "metadata": {
    "collapsed": false,
    "ExecuteTime": {
     "end_time": "2024-04-18T16:25:44.537859Z",
     "start_time": "2024-04-18T16:25:43.766521Z"
    }
   },
   "id": "87e22252a80003d1",
   "execution_count": 5
  },
  {
   "cell_type": "code",
   "outputs": [
    {
     "name": "stdout",
     "output_type": "stream",
     "text": [
      "Precisión del modelo: 0.544069640914037\n",
      "Matriz de confusión:\n",
      " [[ 225 1019]\n",
      " [ 238 1275]]\n",
      "Reporte de clasificación:\n",
      "               precision    recall  f1-score   support\n",
      "\n",
      "      Perder       0.49      0.18      0.26      1244\n",
      "       Ganar       0.56      0.84      0.67      1513\n",
      "\n",
      "    accuracy                           0.54      2757\n",
      "   macro avg       0.52      0.51      0.47      2757\n",
      "weighted avg       0.52      0.54      0.49      2757\n"
     ]
    }
   ],
   "source": [
    "from sklearn.model_selection import train_test_split\n",
    "from sklearn.naive_bayes import GaussianNB\n",
    "from sklearn.metrics import classification_report, confusion_matrix, accuracy_score\n",
    "\n",
    "# Dividir los datos en conjuntos de entrenamiento y prueba\n",
    "X_train, X_test, y_train, y_test = train_test_split(X_scaled, y, test_size=0.2, random_state=42)\n",
    "\n",
    "# Inicializar el clasificador Naive Bayes\n",
    "nb = GaussianNB()\n",
    "\n",
    "# Entrenar el modelo Naive Bayes\n",
    "nb.fit(X_train, y_train)\n",
    "\n",
    "# Predecir los resultados para el conjunto de prueba\n",
    "y_pred_nb = nb.predict(X_test)\n",
    "\n",
    "# Calcular y mostrar métricas de rendimiento\n",
    "accuracy_nb = accuracy_score(y_test, y_pred_nb)\n",
    "conf_matrix_nb = confusion_matrix(y_test, y_pred_nb)\n",
    "report_nb = classification_report(y_test, y_pred_nb, target_names=[\"Perder\", \"Ganar\"])\n",
    "\n",
    "# Presentación de los resultados\n",
    "print(\"Precisión del modelo:\", accuracy_nb)\n",
    "print(\"Matriz de confusión:\\n\", conf_matrix_nb)\n",
    "print(\"Reporte de clasificación:\\n\", report_nb)\n"
   ],
   "metadata": {
    "collapsed": false,
    "ExecuteTime": {
     "end_time": "2024-04-18T16:26:07.894593Z",
     "start_time": "2024-04-18T16:26:07.829684Z"
    }
   },
   "id": "56f25930563f3674",
   "execution_count": 6
  },
  {
   "cell_type": "code",
   "outputs": [
    {
     "name": "stdout",
     "output_type": "stream",
     "text": [
      "Accuracy: 0.5505984766050055\n",
      "Confusion Matrix:\n",
      " [[529 715]\n",
      " [524 989]]\n",
      "Classification Report:\n",
      "               precision    recall  f1-score   support\n",
      "\n",
      "           0       0.50      0.43      0.46      1244\n",
      "           1       0.58      0.65      0.61      1513\n",
      "\n",
      "    accuracy                           0.55      2757\n",
      "   macro avg       0.54      0.54      0.54      2757\n",
      "weighted avg       0.55      0.55      0.55      2757\n"
     ]
    }
   ],
   "source": [
    "\n",
    "from sklearn.naive_bayes import BernoulliNB\n",
    "from sklearn.preprocessing import Binarizer\n",
    "\n",
    "# Binarizar las características\n",
    "binarizer = Binarizer()\n",
    "X_binarized = binarizer.fit_transform(X_scaled)\n",
    "\n",
    "# Dividir los datos en conjuntos de entrenamiento y prueba\n",
    "X_train_bin, X_test_bin, y_train, y_test = train_test_split(X_binarized, y, test_size=0.2, random_state=42)\n",
    "\n",
    "# Inicializar y entrenar el clasificador\n",
    "bnb = BernoulliNB()\n",
    "bnb.fit(X_train_bin, y_train)\n",
    "\n",
    "# Realizar predicciones\n",
    "y_pred_bnb = bnb.predict(X_test_bin)\n",
    "\n",
    "# Evaluar el modelo\n",
    "print(\"Accuracy:\", accuracy_score(y_test, y_pred_bnb))\n",
    "print(\"Confusion Matrix:\\n\", confusion_matrix(y_test, y_pred_bnb))\n",
    "print(\"Classification Report:\\n\", classification_report(y_test, y_pred_bnb))\n"
   ],
   "metadata": {
    "collapsed": false,
    "ExecuteTime": {
     "end_time": "2024-04-18T16:29:10.379609Z",
     "start_time": "2024-04-18T16:29:10.255851Z"
    }
   },
   "id": "702a49be48a983cf",
   "execution_count": 7
  },
  {
   "cell_type": "code",
   "outputs": [
    {
     "data": {
      "text/plain": "(0.5505984766050055,\n array([[529, 715],\n        [524, 989]], dtype=int64),\n '              precision    recall  f1-score   support\\n\\n      Perder       0.50      0.43      0.46      1244\\n       Ganar       0.58      0.65      0.61      1513\\n\\n    accuracy                           0.55      2757\\n   macro avg       0.54      0.54      0.54      2757\\nweighted avg       0.55      0.55      0.55      2757\\n')"
     },
     "execution_count": 8,
     "metadata": {},
     "output_type": "execute_result"
    }
   ],
   "source": [
    "from sklearn.naive_bayes import BernoulliNB\n",
    "from sklearn.preprocessing import Binarizer\n",
    "\n",
    "# Binarizar las características para Bernoulli Naive Bayes\n",
    "binarizer = Binarizer()\n",
    "X_binarized = binarizer.fit_transform(X_scaled)\n",
    "\n",
    "# Dividir los datos binarizados en conjuntos de entrenamiento y prueba\n",
    "X_train_bin, X_test_bin, y_train, y_test = train_test_split(X_binarized, y, test_size=0.2, random_state=42)\n",
    "\n",
    "# Inicializar el clasificador Bernoulli Naive Bayes\n",
    "bnb = BernoulliNB()\n",
    "\n",
    "# Entrenar el modelo Bernoulli Naive Bayes\n",
    "bnb.fit(X_train_bin, y_train)\n",
    "\n",
    "# Predecir los resultados para el conjunto de prueba\n",
    "y_pred_bnb = bnb.predict(X_test_bin)\n",
    "\n",
    "# Calcular y mostrar métricas de rendimiento para Bernoulli Naive Bayes\n",
    "accuracy_bnb = accuracy_score(y_test, y_pred_bnb)\n",
    "conf_matrix_bnb = confusion_matrix(y_test, y_pred_bnb)\n",
    "report_bnb = classification_report(y_test, y_pred_bnb, target_names=[\"Perder\", \"Ganar\"])\n",
    "\n",
    "accuracy_bnb, conf_matrix_bnb, report_bnb\n"
   ],
   "metadata": {
    "collapsed": false,
    "ExecuteTime": {
     "end_time": "2024-04-18T16:29:23.373839Z",
     "start_time": "2024-04-18T16:29:23.318861Z"
    }
   },
   "id": "ff97057999cb8009",
   "execution_count": 8
  },
  {
   "cell_type": "code",
   "outputs": [],
   "source": [],
   "metadata": {
    "collapsed": false
   },
   "id": "3ce90d714be0895a"
  }
 ],
 "metadata": {
  "kernelspec": {
   "display_name": "Python 3",
   "language": "python",
   "name": "python3"
  },
  "language_info": {
   "codemirror_mode": {
    "name": "ipython",
    "version": 2
   },
   "file_extension": ".py",
   "mimetype": "text/x-python",
   "name": "python",
   "nbconvert_exporter": "python",
   "pygments_lexer": "ipython2",
   "version": "2.7.6"
  }
 },
 "nbformat": 4,
 "nbformat_minor": 5
}
