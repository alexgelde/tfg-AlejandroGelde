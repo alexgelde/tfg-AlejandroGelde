{
 "cells": [
  {
   "cell_type": "code",
   "execution_count": 2,
   "id": "initial_id",
   "metadata": {
    "collapsed": true,
    "ExecuteTime": {
     "end_time": "2024-04-16T16:08:40.034889Z",
     "start_time": "2024-04-16T16:06:21.306786Z"
    }
   },
   "outputs": [
    {
     "name": "stdout",
     "output_type": "stream",
     "text": [
      "Precisión del modelo SVC con C=0.001: 0.5370\n",
      "Precisión del modelo SVC con C=0.01: 0.5370\n",
      "Precisión del modelo SVC con C=0.1: 0.5370\n",
      "Precisión del modelo SVC con C=1: 0.5370\n",
      "Precisión del modelo SVC con C=2: 0.5370\n",
      "Precisión del modelo SVC con C=10: 0.5370\n"
     ]
    }
   ],
   "source": [
    "from sklearn.model_selection import train_test_split\n",
    "from sklearn.svm import SVC\n",
    "from sklearn.metrics import accuracy_score\n",
    "import numpy as np\n",
    "import json\n",
    "\n",
    "def calcular_media_equipo(equipo):\n",
    "    media = {}\n",
    "    for campeon in equipo:\n",
    "        for key, value in campeon.items():\n",
    "            if key != \"ID\" and key != \"Key\" and key != \"Name\":\n",
    "                if key not in media:\n",
    "                    media[key] = value\n",
    "                else:\n",
    "                    media[key] += value\n",
    "    num_campeones = len(equipo)\n",
    "    for key in media:\n",
    "        media[key] /= num_campeones\n",
    "    return list(media.values())\n",
    "\n",
    "def cargar_datos_desde_json(ruta_archivo):\n",
    "    X = []\n",
    "    y = []\n",
    "    with open(ruta_archivo, 'r') as file:\n",
    "        data = json.load(file)\n",
    "    for partida in data:\n",
    "        resultado = partida[\"result\"]\n",
    "        for equipo in [partida[\"blue_team\"], partida[\"red_team\"]]:\n",
    "            X.append(calcular_media_equipo(equipo))\n",
    "            y.append(resultado)\n",
    "    return np.array(X), np.array(y)\n",
    "\n",
    "# Cargar datos desde el archivo JSON\n",
    "X, y = cargar_datos_desde_json(\"partidasConCaracteristicas.json\")\n",
    "\n",
    "# Dividir los datos en conjuntos de entrenamiento y prueba\n",
    "X_train, X_test, y_train, y_test = train_test_split(X, y, test_size=0.2, random_state=42)\n",
    "\n",
    "# Valores de C a probar\n",
    "valores_c = [0.001, 0.01, 0.1, 1, 2, 10]\n",
    "\n",
    "# Iterar sobre los valores de C\n",
    "for c in valores_c:\n",
    "    # Inicializar el clasificador SVC con el valor de C actual\n",
    "    svc = SVC(kernel='linear', C=c)\n",
    "\n",
    "    # Entrenar el modelo\n",
    "    svc.fit(X_train, y_train)\n",
    "\n",
    "    # Predecir en el conjunto de prueba\n",
    "    y_pred = svc.predict(X_test)\n",
    "\n",
    "    # Calcular la precisión del modelo\n",
    "    precision = accuracy_score(y_test, y_pred)\n",
    "    print(\"Precisión del modelo SVC con C={}: {:.4f}\".format(c, precision))\n"
   ]
  },
  {
   "cell_type": "code",
   "outputs": [],
   "source": [
    "import json\n",
    "\n",
    "with open('arraysPartidasResultado.json') as file:\n",
    "    data_results = json.load(file)\n",
    "\n",
    "with open('caracteristicas_campeones.json') as file:\n",
    "    data_champions = json.load(file)\n"
   ],
   "metadata": {
    "collapsed": false,
    "ExecuteTime": {
     "end_time": "2024-05-04T15:13:03.433472Z",
     "start_time": "2024-05-04T15:13:03.323050Z"
    }
   },
   "id": "3435117dc7efdcc4",
   "execution_count": 4
  },
  {
   "cell_type": "code",
   "outputs": [
    {
     "data": {
      "text/plain": "   Result  Champ1_Difficulty  Champ1_HP  Champ1_Armor  Champ1_HPRegen  \\\n0       1                8.0      630.0          33.0             8.5   \n1       0                8.0      596.0          22.0             5.5   \n2       1                4.0      650.0          40.0             6.0   \n3       0                3.0      660.0          35.0             8.0   \n4       0                3.0      660.0          35.0             8.0   \n\n   Champ1_AttackDamage  Champ1_AttackSpeed  Champ2_Difficulty  Champ2_HP  \\\n0                 64.0               0.625                7.0      655.0   \n1                 55.0               0.625                7.0      600.0   \n2                 64.0               0.658                5.0      670.0   \n3                 69.0               0.665                7.0      658.0   \n4                 69.0               0.665                8.0      558.0   \n\n   Champ2_Armor  ...  Champ9_Armor  Champ9_HPRegen  Champ9_AttackDamage  \\\n0          27.0  ...     29.835366         6.41311            58.920732   \n1          20.0  ...     28.000000         3.50000            50.000000   \n2          38.0  ...     29.000000         3.75000            62.000000   \n3          30.0  ...     29.835366         6.41311            58.920732   \n4          19.0  ...     24.000000         4.00000            62.000000   \n\n   Champ9_AttackSpeed  Champ10_Difficulty  Champ10_HP  Champ10_Armor  \\\n0            0.649543                 3.0       610.0           47.0   \n1            0.625000                 5.0       575.0           27.0   \n2            0.679000                 5.0       610.0           30.0   \n3            0.649543                 5.0       610.0           30.0   \n4            0.625000                 4.0       646.0           35.0   \n\n   Champ10_HPRegen  Champ10_AttackDamage  Champ10_AttackSpeed  \n0              8.5                  55.0                0.644  \n1              9.0                  61.0                0.645  \n2              5.0                  62.0                0.635  \n3              5.0                  62.0                0.635  \n4              8.5                  68.0                0.644  \n\n[5 rows x 61 columns]",
      "text/html": "<div>\n<style scoped>\n    .dataframe tbody tr th:only-of-type {\n        vertical-align: middle;\n    }\n\n    .dataframe tbody tr th {\n        vertical-align: top;\n    }\n\n    .dataframe thead th {\n        text-align: right;\n    }\n</style>\n<table border=\"1\" class=\"dataframe\">\n  <thead>\n    <tr style=\"text-align: right;\">\n      <th></th>\n      <th>Result</th>\n      <th>Champ1_Difficulty</th>\n      <th>Champ1_HP</th>\n      <th>Champ1_Armor</th>\n      <th>Champ1_HPRegen</th>\n      <th>Champ1_AttackDamage</th>\n      <th>Champ1_AttackSpeed</th>\n      <th>Champ2_Difficulty</th>\n      <th>Champ2_HP</th>\n      <th>Champ2_Armor</th>\n      <th>...</th>\n      <th>Champ9_Armor</th>\n      <th>Champ9_HPRegen</th>\n      <th>Champ9_AttackDamage</th>\n      <th>Champ9_AttackSpeed</th>\n      <th>Champ10_Difficulty</th>\n      <th>Champ10_HP</th>\n      <th>Champ10_Armor</th>\n      <th>Champ10_HPRegen</th>\n      <th>Champ10_AttackDamage</th>\n      <th>Champ10_AttackSpeed</th>\n    </tr>\n  </thead>\n  <tbody>\n    <tr>\n      <th>0</th>\n      <td>1</td>\n      <td>8.0</td>\n      <td>630.0</td>\n      <td>33.0</td>\n      <td>8.5</td>\n      <td>64.0</td>\n      <td>0.625</td>\n      <td>7.0</td>\n      <td>655.0</td>\n      <td>27.0</td>\n      <td>...</td>\n      <td>29.835366</td>\n      <td>6.41311</td>\n      <td>58.920732</td>\n      <td>0.649543</td>\n      <td>3.0</td>\n      <td>610.0</td>\n      <td>47.0</td>\n      <td>8.5</td>\n      <td>55.0</td>\n      <td>0.644</td>\n    </tr>\n    <tr>\n      <th>1</th>\n      <td>0</td>\n      <td>8.0</td>\n      <td>596.0</td>\n      <td>22.0</td>\n      <td>5.5</td>\n      <td>55.0</td>\n      <td>0.625</td>\n      <td>7.0</td>\n      <td>600.0</td>\n      <td>20.0</td>\n      <td>...</td>\n      <td>28.000000</td>\n      <td>3.50000</td>\n      <td>50.000000</td>\n      <td>0.625000</td>\n      <td>5.0</td>\n      <td>575.0</td>\n      <td>27.0</td>\n      <td>9.0</td>\n      <td>61.0</td>\n      <td>0.645</td>\n    </tr>\n    <tr>\n      <th>2</th>\n      <td>1</td>\n      <td>4.0</td>\n      <td>650.0</td>\n      <td>40.0</td>\n      <td>6.0</td>\n      <td>64.0</td>\n      <td>0.658</td>\n      <td>5.0</td>\n      <td>670.0</td>\n      <td>38.0</td>\n      <td>...</td>\n      <td>29.000000</td>\n      <td>3.75000</td>\n      <td>62.000000</td>\n      <td>0.679000</td>\n      <td>5.0</td>\n      <td>610.0</td>\n      <td>30.0</td>\n      <td>5.0</td>\n      <td>62.0</td>\n      <td>0.635</td>\n    </tr>\n    <tr>\n      <th>3</th>\n      <td>0</td>\n      <td>3.0</td>\n      <td>660.0</td>\n      <td>35.0</td>\n      <td>8.0</td>\n      <td>69.0</td>\n      <td>0.665</td>\n      <td>7.0</td>\n      <td>658.0</td>\n      <td>30.0</td>\n      <td>...</td>\n      <td>29.835366</td>\n      <td>6.41311</td>\n      <td>58.920732</td>\n      <td>0.649543</td>\n      <td>5.0</td>\n      <td>610.0</td>\n      <td>30.0</td>\n      <td>5.0</td>\n      <td>62.0</td>\n      <td>0.635</td>\n    </tr>\n    <tr>\n      <th>4</th>\n      <td>0</td>\n      <td>3.0</td>\n      <td>660.0</td>\n      <td>35.0</td>\n      <td>8.0</td>\n      <td>69.0</td>\n      <td>0.665</td>\n      <td>8.0</td>\n      <td>558.0</td>\n      <td>19.0</td>\n      <td>...</td>\n      <td>24.000000</td>\n      <td>4.00000</td>\n      <td>62.000000</td>\n      <td>0.625000</td>\n      <td>4.0</td>\n      <td>646.0</td>\n      <td>35.0</td>\n      <td>8.5</td>\n      <td>68.0</td>\n      <td>0.644</td>\n    </tr>\n  </tbody>\n</table>\n<p>5 rows × 61 columns</p>\n</div>"
     },
     "execution_count": 5,
     "metadata": {},
     "output_type": "execute_result"
    }
   ],
   "source": [
    "import pandas as pd\n",
    "\n",
    "# Transformamos la lista de campeones en un diccionario para facilitar el acceso a sus características por clave\n",
    "champions_features = {champ['Key']: champ for champ in data_champions}\n",
    "# Calculamos las medias de las características\n",
    "features_to_average = ['Difficulty', 'HP', 'Armor', 'HPRegen', 'AttackDamage', 'AttackSpeed']\n",
    "average_features = {feature: sum(champ[feature] for champ in champions_features.values()) / len(champions_features) for feature in features_to_average}\n",
    "# Crear un DataFrame vacío para almacenar los datos combinados\n",
    "combined_data = []\n",
    "\n",
    "# Iteramos sobre cada partida en data_results\n",
    "for match in data_results:\n",
    "    # Extrayendo el resultado del partido y los IDs de los campeones\n",
    "    match_result = match[0]\n",
    "    champion_ids = match[1:]\n",
    "\n",
    "    # Lista para almacenar las características combinadas de los campeones de la partida\n",
    "    match_features = []\n",
    "\n",
    "    # Sumar características de todos los campeones en la partida\n",
    "    for champ_id in champion_ids:\n",
    "        # Si el campeón está en nuestro diccionario de características, agregamos sus datos\n",
    "        if champ_id in champions_features:\n",
    "            champ_data = champions_features[champ_id]\n",
    "            match_features.extend([\n",
    "                champ_data['Difficulty'],\n",
    "                champ_data['HP'],\n",
    "                champ_data['Armor'],\n",
    "                champ_data['HPRegen'],\n",
    "                champ_data['AttackDamage'],\n",
    "                champ_data['AttackSpeed']\n",
    "            ])\n",
    "        else:\n",
    "\n",
    "            # Usamos las medias si el campeón no está en el diccionario\n",
    "            match_features.extend([average_features[feat] for feat in features_to_average])\n",
    "\n",
    "    # Agregamos el resultado del partido y las características acumuladas a los datos combinados\n",
    "    combined_data.append([match_result] + match_features)\n",
    "\n",
    "# Convertimos la lista combinada en un DataFrame para su manipulación y visualización\n",
    "column_names = ['Result'] + [f'Champ{i}_{feat}' for i in range(1, 11)\n",
    "                             for feat in ['Difficulty', 'HP', 'Armor', 'HPRegen', 'AttackDamage', 'AttackSpeed']]\n",
    "df_combined = pd.DataFrame(combined_data, columns=column_names)\n",
    "\n",
    "# Mostramos las primeras filas del DataFrame para verificar\n",
    "df_combined.head()"
   ],
   "metadata": {
    "collapsed": false,
    "ExecuteTime": {
     "end_time": "2024-05-04T15:13:20.107067Z",
     "start_time": "2024-05-04T15:13:19.883447Z"
    }
   },
   "id": "4f86d7bad9eed767",
   "execution_count": 5
  },
  {
   "cell_type": "code",
   "outputs": [
    {
     "data": {
      "text/plain": "(((11026, 60), (11026,)), ((2757, 60), (2757,)))"
     },
     "execution_count": 6,
     "metadata": {},
     "output_type": "execute_result"
    }
   ],
   "source": [
    "import joblib\n",
    "from sklearn.model_selection import train_test_split\n",
    "from sklearn.preprocessing import MinMaxScaler\n",
    "\n",
    "# Separar los datos en variables independientes (X) y la variable dependiente (y)\n",
    "X = df_combined.iloc[:, 1:].values  # Todas las filas, todas las columnas excepto la primera\n",
    "y = df_combined.iloc[:, 0].values  # Todas las filas, solo la primera columna (resultado del partido)\n",
    "\n",
    "# Normalizar las características\n",
    "scaler = MinMaxScaler()\n",
    "X_scaled = scaler.fit_transform(X)\n",
    "# Guardar el scaler para su uso posterior\n",
    "joblib.dump(scaler, 'scaler.gz')\n",
    "# Dividir los datos en conjunto de entrenamiento y prueba\n",
    "X_train, X_test, y_train, y_test = train_test_split(X_scaled, y, test_size=0.2, random_state=42)\n",
    "\n",
    "# Mostramos las dimensiones de los conjuntos de entrenamiento y prueba para confirmar\n",
    "(X_train.shape, y_train.shape), (X_test.shape, y_test.shape)\n"
   ],
   "metadata": {
    "collapsed": false,
    "ExecuteTime": {
     "end_time": "2024-05-04T15:13:25.311814Z",
     "start_time": "2024-05-04T15:13:25.279838Z"
    }
   },
   "id": "fef246a083f448a9",
   "execution_count": 6
  },
  {
   "cell_type": "code",
   "outputs": [
    {
     "name": "stdout",
     "output_type": "stream",
     "text": [
      "Accuracy of the LinearSVC model: 0.5523579201934704\n"
     ]
    }
   ],
   "source": [
    "import pandas as pd\n",
    "from sklearn.model_selection import train_test_split\n",
    "from sklearn.preprocessing import StandardScaler\n",
    "from sklearn.svm import LinearSVC\n",
    "from sklearn.metrics import accuracy_score\n",
    "\n",
    "# Asumiendo df_combined ya está definido y cargado correctamente\n",
    "X = df_combined.drop('Result', axis=1)  # características\n",
    "y = df_combined['Result']  # etiqueta\n",
    "\n",
    "# Dividir los datos en conjunto de entrenamiento y prueba\n",
    "X_train, X_test, y_train, y_test = train_test_split(X, y, test_size=0.3, random_state=42)\n",
    "\n",
    "# Escalado de características\n",
    "scaler = StandardScaler()\n",
    "X_train_scaled = scaler.fit_transform(X_train)\n",
    "X_test_scaled = scaler.transform(X_test)\n",
    "\n",
    "# Crear y entrenar el modelo LinearSVC\n",
    "model = LinearSVC(max_iter=10000)  # Aumentar max_iter si es necesario por convergencia\n",
    "model.fit(X_train_scaled, y_train)\n",
    "\n",
    "# Predecir en el conjunto de prueba\n",
    "y_pred = model.predict(X_test_scaled)\n",
    "\n",
    "# Calcular y mostrar la precisión\n",
    "accuracy = accuracy_score(y_test, y_pred)\n",
    "print(\"Accuracy of the LinearSVC model:\", accuracy)\n"
   ],
   "metadata": {
    "collapsed": false,
    "ExecuteTime": {
     "end_time": "2024-05-04T15:14:00.795420Z",
     "start_time": "2024-05-04T15:13:54.251573Z"
    }
   },
   "id": "73a3335d6c5db807",
   "execution_count": 7
  },
  {
   "cell_type": "code",
   "outputs": [
    {
     "name": "stdout",
     "output_type": "stream",
     "text": [
      "Accuracy with C=0.001: 0.550665054413543\n",
      "Accuracy with C=0.01: 0.5521160822249093\n",
      "Accuracy with C=0.1: 0.5523579201934704\n",
      "Accuracy with C=1: 0.5523579201934704\n",
      "Accuracy with C=10: 0.5530834340991536\n",
      "C = 0.001: Accuracy = 0.550665054413543\n",
      "C = 0.01: Accuracy = 0.5521160822249093\n",
      "C = 0.1: Accuracy = 0.5523579201934704\n",
      "C = 1: Accuracy = 0.5523579201934704\n",
      "C = 10: Accuracy = 0.5530834340991536\n"
     ]
    },
    {
     "name": "stderr",
     "output_type": "stream",
     "text": [
      "C:\\Users\\USUARIO\\anaconda3\\Lib\\site-packages\\sklearn\\svm\\_base.py:1244: ConvergenceWarning: Liblinear failed to converge, increase the number of iterations.\n",
      "  warnings.warn(\n"
     ]
    }
   ],
   "source": [
    "import numpy as np\n",
    "from sklearn.model_selection import train_test_split\n",
    "from sklearn.preprocessing import StandardScaler\n",
    "from sklearn.svm import LinearSVC\n",
    "from sklearn.metrics import accuracy_score\n",
    "\n",
    "# Asumiendo df_combined ya está definido y cargado correctamente\n",
    "X = df_combined.drop('Result', axis=1)  # características\n",
    "y = df_combined['Result']  # etiqueta\n",
    "\n",
    "# Dividir los datos en conjunto de entrenamiento y prueba\n",
    "X_train, X_test, y_train, y_test = train_test_split(X, y, test_size=0.3, random_state=42)\n",
    "\n",
    "# Escalado de características\n",
    "scaler = StandardScaler()\n",
    "X_train_scaled = scaler.fit_transform(X_train)\n",
    "X_test_scaled = scaler.transform(X_test)\n",
    "\n",
    "# Diferentes valores de C para explorar\n",
    "C_values = [0.001, 0.01, 0.1, 1, 10]\n",
    "\n",
    "# Almacenar resultados para cada valor de C\n",
    "results = []\n",
    "\n",
    "for C in C_values:\n",
    "    model = LinearSVC(C=C, max_iter=10000)\n",
    "    model.fit(X_train_scaled, y_train)\n",
    "    y_pred = model.predict(X_test_scaled)\n",
    "    accuracy = accuracy_score(y_test, y_pred)\n",
    "    results.append((C, accuracy))\n",
    "    print(f\"Accuracy with C={C}: {accuracy}\")\n",
    "\n",
    "# Mostrar todos los resultados\n",
    "for C, accuracy in results:\n",
    "    print(f\"C = {C}: Accuracy = {accuracy}\")\n"
   ],
   "metadata": {
    "collapsed": false,
    "ExecuteTime": {
     "end_time": "2024-05-04T15:19:22.480214Z",
     "start_time": "2024-05-04T15:19:00.838970Z"
    }
   },
   "id": "e31e33c47792ea16",
   "execution_count": 10
  },
  {
   "cell_type": "code",
   "outputs": [],
   "source": [],
   "metadata": {
    "collapsed": false
   },
   "id": "920abf3a40397cb1"
  }
 ],
 "metadata": {
  "kernelspec": {
   "display_name": "Python 3",
   "language": "python",
   "name": "python3"
  },
  "language_info": {
   "codemirror_mode": {
    "name": "ipython",
    "version": 2
   },
   "file_extension": ".py",
   "mimetype": "text/x-python",
   "name": "python",
   "nbconvert_exporter": "python",
   "pygments_lexer": "ipython2",
   "version": "2.7.6"
  }
 },
 "nbformat": 4,
 "nbformat_minor": 5
}
