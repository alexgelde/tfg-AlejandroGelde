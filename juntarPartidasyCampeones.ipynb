{
 "cells": [
  {
   "cell_type": "code",
   "execution_count": 3,
   "id": "initial_id",
   "metadata": {
    "collapsed": true,
    "ExecuteTime": {
     "end_time": "2024-04-15T19:09:33.554023Z",
     "start_time": "2024-04-15T19:09:30.149713Z"
    }
   },
   "outputs": [],
   "source": [
    "\n",
    "import json\n",
    "import pandas as pd\n",
    "import json\n",
    "from sklearn.model_selection import train_test_split\n",
    "from sklearn.neighbors import KNeighborsClassifier\n",
    "from sklearn.metrics import accuracy_score\n",
    "\n",
    "with open('arraysPartidasResultado.json', 'r') as file:\n",
    "    data = json.load(file)\n",
    "\n",
    "# Convertir los datos en un DataFrame de pandas\n",
    "df = pd.DataFrame(data)\n",
    "\n",
    "with open('caracteristicas_campeones.json', 'r') as file:\n",
    "    dataCampeones = json.load(file)\n",
    "\n",
    "# Convertir los datos en un DataFrame de pandas\n",
    "df = pd.DataFrame(data)\n",
    "\n",
    "champion_stats = {champ[\"Key\"]: champ for champ in dataCampeones}\n",
    "\n",
    "\n",
    "def merge_match_and_champion_data(matches, champion_stats):\n",
    "    # Enhanced match data will include champion stats\n",
    "    enhanced_matches = []\n",
    "\n",
    "    for match in matches:\n",
    "        result = match[0]\n",
    "        blue_team = match[1:6]\n",
    "        red_team = match[6:11]\n",
    "\n",
    "        # Collecting stats for each champion in the blue and red teams\n",
    "        blue_team_stats = [champion_stats[champ] for champ in blue_team if champ in champion_stats]\n",
    "        red_team_stats = [champion_stats[champ] for champ in red_team if champ in champion_stats]\n",
    "\n",
    "        # Create a new structured match data\n",
    "        enhanced_match = {\n",
    "            \"result\": result,\n",
    "            \"blue_team\": blue_team_stats,\n",
    "            \"red_team\": red_team_stats\n",
    "        }\n",
    "        enhanced_matches.append(enhanced_match)\n",
    "\n",
    "    return enhanced_matches\n",
    "\n",
    "def save_data_to_json(data, filename):\n",
    "    with open(filename, 'w') as f:\n",
    "        json.dump(data, f, indent=4)\n",
    "\n",
    "\n",
    "# Uncomment the function calls to execute the full process and save the output to a JSON file.\n",
    "enhanced_data = merge_match_and_champion_data(data, champion_stats)\n",
    "filename = \"enhanced_matches.json\"\n",
    "save_data_to_json(enhanced_data, filename)\n",
    "\n",
    "# This will create an 'enhanced_matches.json' file containing the enriched match data with champion statistics included.\n"
   ]
  },
  {
   "cell_type": "code",
   "outputs": [],
   "source": [],
   "metadata": {
    "collapsed": false
   },
   "id": "c66c6f3d24dfe315"
  }
 ],
 "metadata": {
  "kernelspec": {
   "display_name": "Python 3",
   "language": "python",
   "name": "python3"
  },
  "language_info": {
   "codemirror_mode": {
    "name": "ipython",
    "version": 2
   },
   "file_extension": ".py",
   "mimetype": "text/x-python",
   "name": "python",
   "nbconvert_exporter": "python",
   "pygments_lexer": "ipython2",
   "version": "2.7.6"
  }
 },
 "nbformat": 4,
 "nbformat_minor": 5
}
