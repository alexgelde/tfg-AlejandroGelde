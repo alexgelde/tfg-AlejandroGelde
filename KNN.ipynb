{
 "cells": [
  {
   "cell_type": "code",
   "execution_count": 4,
   "id": "initial_id",
   "metadata": {
    "collapsed": true,
    "ExecuteTime": {
     "end_time": "2024-05-03T08:45:06.282332Z",
     "start_time": "2024-05-03T08:45:05.800091Z"
    }
   },
   "outputs": [
    {
     "name": "stdout",
     "output_type": "stream",
     "text": [
      "Accuracy: 0.6710192237939789\n"
     ]
    },
    {
     "data": {
      "text/plain": "<Figure size 640x480 with 2 Axes>",
      "image/png": "[encoded data removed]"
     },
     "metadata": {},
     "output_type": "display_data"
    }
   ],
   "source": [
    "import json\n",
    "import pandas as pd\n",
    "from sklearn.model_selection import train_test_split\n",
    "from sklearn.preprocessing import StandardScaler\n",
    "from sklearn.neighbors import KNeighborsClassifier\n",
    "from sklearn.metrics import accuracy_score, confusion_matrix\n",
    "import seaborn as sns\n",
    "import matplotlib.pyplot as plt\n",
    "\n",
    "# Carga de datos JSON\n",
    "with open('arraysPartidasResultado.json') as file:\n",
    "    data_results = json.load(file)\n",
    "\n",
    "with open('caracteristicas_campeones.json') as file:\n",
    "    data_champions = json.load(file)\n",
    "\n",
    "# Transformación de los datos de campeones en diccionario\n",
    "champions_features = {champ['Key']: champ for champ in data_champions}\n",
    "\n",
    "# Cálculo de medias de características\n",
    "features_to_average = ['Difficulty', 'HP', 'Armor', 'HPRegen', 'AttackDamage', 'AttackSpeed']\n",
    "average_features = {feature: sum(champ[feature] for champ in champions_features.values()) / len(champions_features) for feature in features_to_average}\n",
    "\n",
    "# Preparación de DataFrame para datos combinados\n",
    "combined_data = []\n",
    "\n",
    "for match in data_results:\n",
    "    match_result = match[0]\n",
    "    champion_ids = match[1:]\n",
    "    match_features = []\n",
    "\n",
    "    for champ_id in champion_ids:\n",
    "        if champ_id in champions_features:\n",
    "            champ_data = champions_features[champ_id]\n",
    "            match_features.extend([\n",
    "                champ_data['Difficulty'],\n",
    "                champ_data['HP'],\n",
    "                champ_data['Armor'],\n",
    "                champ_data['HPRegen'],\n",
    "                champ_data['AttackDamage'],\n",
    "                champ_data['AttackSpeed']\n",
    "            ])\n",
    "        else:\n",
    "            match_features.extend([average_features[feat] for feat in features_to_average])\n",
    "\n",
    "    combined_data.append([match_result] + match_features)\n",
    "\n",
    "column_names = ['Result'] + [f'Champ{i}_{feat}' for i in range(1, 11) for feat in features_to_average]\n",
    "df_combined = pd.DataFrame(combined_data, columns=column_names)\n",
    "\n",
    "# Dividir los datos en características y objetivo\n",
    "X = df_combined.drop('Result', axis=1)\n",
    "y = df_combined['Result']\n",
    "\n",
    "# División en entrenamiento y prueba\n",
    "X_train, X_test, y_train, y_test = train_test_split(X, y, test_size=0.2, random_state=42)\n",
    "\n",
    "# Escalado de características\n",
    "scaler = StandardScaler()\n",
    "X_train_scaled = scaler.fit_transform(X_train)\n",
    "X_test_scaled = scaler.transform(X_test)\n",
    "\n",
    "# Creación y entrenamiento del modelo KNN\n",
    "knn_model = KNeighborsClassifier(n_neighbors=5)  # Puedes ajustar el número de vecinos aquí\n",
    "knn_model.fit(X_train_scaled, y_train)\n",
    "\n",
    "# Evaluación del modelo\n",
    "y_pred = knn_model.predict(X_test_scaled)\n",
    "accuracy = accuracy_score(y_test, y_pred)\n",
    "cm = confusion_matrix(y_test, y_pred)\n",
    "\n",
    "print(\"Accuracy:\", accuracy)\n",
    "sns.heatmap(cm, annot=True, fmt=\"d\", cmap='Blues')\n",
    "plt.title('Matriz de Confusión - KNN')\n",
    "plt.xlabel('Predichos')\n",
    "plt.ylabel('Verdaderos')\n",
    "plt.show()\n"
   ]
  },
  {
   "cell_type": "code",
   "outputs": [],
   "source": [],
   "metadata": {
    "collapsed": false
   },
   "id": "f23c1e0cd060a017"
  }
 ],
 "metadata": {
  "kernelspec": {
   "display_name": "Python 3",
   "language": "python",
   "name": "python3"
  },
  "language_info": {
   "codemirror_mode": {
    "name": "ipython",
    "version": 2
   },
   "file_extension": ".py",
   "mimetype": "text/x-python",
   "name": "python",
   "nbconvert_exporter": "python",
   "pygments_lexer": "ipython2",
   "version": "2.7.6"
  }
 },
 "nbformat": 4,
 "nbformat_minor": 5
}
